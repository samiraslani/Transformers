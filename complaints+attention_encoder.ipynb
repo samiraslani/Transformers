{
 "cells": [
  {
   "cell_type": "code",
   "execution_count": 1,
   "id": "61cdc795-7cbf-491b-bb4a-060c07d4661b",
   "metadata": {},
   "outputs": [],
   "source": [
    "# Loading the required packages: \n",
    "import re\n",
    "import torch\n",
    "import pickle\n",
    "import numpy as np\n",
    "import pandas as pd\n",
    "from tqdm import tqdm\n",
    "\n",
    "import tensorflow as tf\n",
    "import time\n",
    "import matplotlib.pyplot as plt\n",
    "from tensorflow.keras.layers import Embedding, MultiHeadAttention, Dense, Input, Dropout, LayerNormalization, Layer,SimpleRNN\n",
    "from tensorflow.keras.models import Sequential\n",
    "from tensorflow import  reshape, shape, transpose\n",
    "from tensorflow.keras.preprocessing.text import Tokenizer\n",
    "from tensorflow.keras.preprocessing.sequence import pad_sequences\n",
    "\n",
    "from sklearn.model_selection import train_test_split \n",
    "import matplotlib.pyplot as plt\n",
    "from nltk.corpus import stopwords \n",
    "from nltk.tokenize import word_tokenize, RegexpTokenizer\n",
    "from sklearn.preprocessing import LabelEncoder\n",
    "\n",
    "\n",
    "import time "
   ]
  },
  {
   "cell_type": "code",
   "execution_count": 2,
   "id": "b07770d3-8e77-4204-9552-0c3ce0c8655d",
   "metadata": {},
   "outputs": [
    {
     "data": {
      "text/html": [
       "<div>\n",
       "<style scoped>\n",
       "    .dataframe tbody tr th:only-of-type {\n",
       "        vertical-align: middle;\n",
       "    }\n",
       "\n",
       "    .dataframe tbody tr th {\n",
       "        vertical-align: top;\n",
       "    }\n",
       "\n",
       "    .dataframe thead th {\n",
       "        text-align: right;\n",
       "    }\n",
       "</style>\n",
       "<table border=\"1\" class=\"dataframe\">\n",
       "  <thead>\n",
       "    <tr style=\"text-align: right;\">\n",
       "      <th></th>\n",
       "      <th>Date received</th>\n",
       "      <th>Product</th>\n",
       "      <th>Sub-product</th>\n",
       "      <th>Issue</th>\n",
       "      <th>Sub-issue</th>\n",
       "      <th>Consumer complaint narrative</th>\n",
       "      <th>Company public response</th>\n",
       "      <th>Company</th>\n",
       "      <th>State</th>\n",
       "      <th>ZIP code</th>\n",
       "      <th>Tags</th>\n",
       "      <th>Consumer consent provided?</th>\n",
       "      <th>Submitted via</th>\n",
       "      <th>Date sent to company</th>\n",
       "      <th>Company response to consumer</th>\n",
       "      <th>Timely response?</th>\n",
       "      <th>Consumer disputed?</th>\n",
       "      <th>Complaint ID</th>\n",
       "    </tr>\n",
       "  </thead>\n",
       "  <tbody>\n",
       "    <tr>\n",
       "      <th>0</th>\n",
       "      <td>2019-06-13</td>\n",
       "      <td>Credit reporting, credit repair services, or o...</td>\n",
       "      <td>Credit reporting</td>\n",
       "      <td>Incorrect information on your report</td>\n",
       "      <td>Information belongs to someone else</td>\n",
       "      <td>NaN</td>\n",
       "      <td>NaN</td>\n",
       "      <td>CAPITAL ONE FINANCIAL CORPORATION</td>\n",
       "      <td>PA</td>\n",
       "      <td>186XX</td>\n",
       "      <td>NaN</td>\n",
       "      <td>Consent not provided</td>\n",
       "      <td>Web</td>\n",
       "      <td>2019-06-13</td>\n",
       "      <td>Closed with explanation</td>\n",
       "      <td>Yes</td>\n",
       "      <td>NaN</td>\n",
       "      <td>3274605.0</td>\n",
       "    </tr>\n",
       "    <tr>\n",
       "      <th>1</th>\n",
       "      <td>2019-11-01</td>\n",
       "      <td>Vehicle loan or lease</td>\n",
       "      <td>Loan</td>\n",
       "      <td>Struggling to pay your loan</td>\n",
       "      <td>Denied request to lower payments</td>\n",
       "      <td>I contacted Ally on Friday XX/XX/XXXX after fa...</td>\n",
       "      <td>Company has responded to the consumer and the ...</td>\n",
       "      <td>ALLY FINANCIAL INC.</td>\n",
       "      <td>NJ</td>\n",
       "      <td>088XX</td>\n",
       "      <td>NaN</td>\n",
       "      <td>Consent provided</td>\n",
       "      <td>Web</td>\n",
       "      <td>2019-11-01</td>\n",
       "      <td>Closed with explanation</td>\n",
       "      <td>Yes</td>\n",
       "      <td>NaN</td>\n",
       "      <td>3425257.0</td>\n",
       "    </tr>\n",
       "    <tr>\n",
       "      <th>2</th>\n",
       "      <td>2019-04-01</td>\n",
       "      <td>Credit reporting, credit repair services, or o...</td>\n",
       "      <td>Credit reporting</td>\n",
       "      <td>Incorrect information on your report</td>\n",
       "      <td>Account status incorrect</td>\n",
       "      <td>NaN</td>\n",
       "      <td>Company has responded to the consumer and the ...</td>\n",
       "      <td>TRANSUNION INTERMEDIATE HOLDINGS, INC.</td>\n",
       "      <td>PA</td>\n",
       "      <td>19067</td>\n",
       "      <td>NaN</td>\n",
       "      <td>Consent not provided</td>\n",
       "      <td>Web</td>\n",
       "      <td>2019-04-01</td>\n",
       "      <td>Closed with explanation</td>\n",
       "      <td>Yes</td>\n",
       "      <td>NaN</td>\n",
       "      <td>3198225.0</td>\n",
       "    </tr>\n",
       "    <tr>\n",
       "      <th>3</th>\n",
       "      <td>2021-11-01</td>\n",
       "      <td>Credit reporting, credit repair services, or o...</td>\n",
       "      <td>Credit reporting</td>\n",
       "      <td>Problem with a credit reporting company's inve...</td>\n",
       "      <td>Was not notified of investigation status or re...</td>\n",
       "      <td>NaN</td>\n",
       "      <td>NaN</td>\n",
       "      <td>TRANSUNION INTERMEDIATE HOLDINGS, INC.</td>\n",
       "      <td>GA</td>\n",
       "      <td>31707</td>\n",
       "      <td>NaN</td>\n",
       "      <td>NaN</td>\n",
       "      <td>Web</td>\n",
       "      <td>2021-11-01</td>\n",
       "      <td>In progress</td>\n",
       "      <td>Yes</td>\n",
       "      <td>NaN</td>\n",
       "      <td>4863965.0</td>\n",
       "    </tr>\n",
       "    <tr>\n",
       "      <th>4</th>\n",
       "      <td>2021-11-02</td>\n",
       "      <td>Debt collection</td>\n",
       "      <td>Medical debt</td>\n",
       "      <td>Took or threatened to take negative or legal a...</td>\n",
       "      <td>Threatened or suggested your credit would be d...</td>\n",
       "      <td>NaN</td>\n",
       "      <td>NaN</td>\n",
       "      <td>Medical Data Systems, Inc.</td>\n",
       "      <td>VA</td>\n",
       "      <td>22033</td>\n",
       "      <td>NaN</td>\n",
       "      <td>NaN</td>\n",
       "      <td>Web</td>\n",
       "      <td>2021-11-02</td>\n",
       "      <td>In progress</td>\n",
       "      <td>Yes</td>\n",
       "      <td>NaN</td>\n",
       "      <td>4866449.0</td>\n",
       "    </tr>\n",
       "  </tbody>\n",
       "</table>\n",
       "</div>"
      ],
      "text/plain": [
       "  Date received                                            Product  \\\n",
       "0    2019-06-13  Credit reporting, credit repair services, or o...   \n",
       "1    2019-11-01                              Vehicle loan or lease   \n",
       "2    2019-04-01  Credit reporting, credit repair services, or o...   \n",
       "3    2021-11-01  Credit reporting, credit repair services, or o...   \n",
       "4    2021-11-02                                    Debt collection   \n",
       "\n",
       "        Sub-product                                              Issue  \\\n",
       "0  Credit reporting               Incorrect information on your report   \n",
       "1              Loan                        Struggling to pay your loan   \n",
       "2  Credit reporting               Incorrect information on your report   \n",
       "3  Credit reporting  Problem with a credit reporting company's inve...   \n",
       "4      Medical debt  Took or threatened to take negative or legal a...   \n",
       "\n",
       "                                           Sub-issue  \\\n",
       "0                Information belongs to someone else   \n",
       "1                   Denied request to lower payments   \n",
       "2                           Account status incorrect   \n",
       "3  Was not notified of investigation status or re...   \n",
       "4  Threatened or suggested your credit would be d...   \n",
       "\n",
       "                        Consumer complaint narrative  \\\n",
       "0                                                NaN   \n",
       "1  I contacted Ally on Friday XX/XX/XXXX after fa...   \n",
       "2                                                NaN   \n",
       "3                                                NaN   \n",
       "4                                                NaN   \n",
       "\n",
       "                             Company public response  \\\n",
       "0                                                NaN   \n",
       "1  Company has responded to the consumer and the ...   \n",
       "2  Company has responded to the consumer and the ...   \n",
       "3                                                NaN   \n",
       "4                                                NaN   \n",
       "\n",
       "                                  Company State ZIP code Tags  \\\n",
       "0       CAPITAL ONE FINANCIAL CORPORATION    PA    186XX  NaN   \n",
       "1                     ALLY FINANCIAL INC.    NJ    088XX  NaN   \n",
       "2  TRANSUNION INTERMEDIATE HOLDINGS, INC.    PA    19067  NaN   \n",
       "3  TRANSUNION INTERMEDIATE HOLDINGS, INC.    GA    31707  NaN   \n",
       "4              Medical Data Systems, Inc.    VA    22033  NaN   \n",
       "\n",
       "  Consumer consent provided? Submitted via Date sent to company  \\\n",
       "0       Consent not provided           Web           2019-06-13   \n",
       "1           Consent provided           Web           2019-11-01   \n",
       "2       Consent not provided           Web           2019-04-01   \n",
       "3                        NaN           Web           2021-11-01   \n",
       "4                        NaN           Web           2021-11-02   \n",
       "\n",
       "  Company response to consumer Timely response? Consumer disputed?  \\\n",
       "0      Closed with explanation              Yes                NaN   \n",
       "1      Closed with explanation              Yes                NaN   \n",
       "2      Closed with explanation              Yes                NaN   \n",
       "3                  In progress              Yes                NaN   \n",
       "4                  In progress              Yes                NaN   \n",
       "\n",
       "   Complaint ID  \n",
       "0     3274605.0  \n",
       "1     3425257.0  \n",
       "2     3198225.0  \n",
       "3     4863965.0  \n",
       "4     4866449.0  "
      ]
     },
     "execution_count": 2,
     "metadata": {},
     "output_type": "execute_result"
    }
   ],
   "source": [
    "# Load the dataset \n",
    "data = pd.read_csv(\"complaints.csv\")\n",
    "data.head()"
   ]
  },
  {
   "cell_type": "code",
   "execution_count": 5,
   "id": "1351e005-b969-49f1-bcfe-bd79497ba81f",
   "metadata": {},
   "outputs": [],
   "source": [
    "data.dropna(subset=[\"Consumer complaint narrative\"], inplace=True) \n",
    "#inplace = True changes the original dataset instead of defining a new one\n"
   ]
  },
  {
   "cell_type": "code",
   "execution_count": 6,
   "id": "0e34cc7c-15e5-4b96-a552-a587d87c578a",
   "metadata": {
    "scrolled": true
   },
   "outputs": [
    {
     "data": {
      "text/html": [
       "<div>\n",
       "<style scoped>\n",
       "    .dataframe tbody tr th:only-of-type {\n",
       "        vertical-align: middle;\n",
       "    }\n",
       "\n",
       "    .dataframe tbody tr th {\n",
       "        vertical-align: top;\n",
       "    }\n",
       "\n",
       "    .dataframe thead th {\n",
       "        text-align: right;\n",
       "    }\n",
       "</style>\n",
       "<table border=\"1\" class=\"dataframe\">\n",
       "  <thead>\n",
       "    <tr style=\"text-align: right;\">\n",
       "      <th></th>\n",
       "      <th>Date received</th>\n",
       "      <th>Product</th>\n",
       "      <th>Sub-product</th>\n",
       "      <th>Issue</th>\n",
       "      <th>Sub-issue</th>\n",
       "      <th>Consumer complaint narrative</th>\n",
       "      <th>Company public response</th>\n",
       "      <th>Company</th>\n",
       "      <th>State</th>\n",
       "      <th>ZIP code</th>\n",
       "      <th>Tags</th>\n",
       "      <th>Consumer consent provided?</th>\n",
       "      <th>Submitted via</th>\n",
       "      <th>Date sent to company</th>\n",
       "      <th>Company response to consumer</th>\n",
       "      <th>Timely response?</th>\n",
       "      <th>Consumer disputed?</th>\n",
       "      <th>Complaint ID</th>\n",
       "    </tr>\n",
       "  </thead>\n",
       "  <tbody>\n",
       "    <tr>\n",
       "      <th>1</th>\n",
       "      <td>2019-11-01</td>\n",
       "      <td>vehicle_loan</td>\n",
       "      <td>Loan</td>\n",
       "      <td>Struggling to pay your loan</td>\n",
       "      <td>Denied request to lower payments</td>\n",
       "      <td>I contacted Ally on Friday XX/XX/XXXX after fa...</td>\n",
       "      <td>Company has responded to the consumer and the ...</td>\n",
       "      <td>ALLY FINANCIAL INC.</td>\n",
       "      <td>NJ</td>\n",
       "      <td>088XX</td>\n",
       "      <td>NaN</td>\n",
       "      <td>Consent provided</td>\n",
       "      <td>Web</td>\n",
       "      <td>2019-11-01</td>\n",
       "      <td>Closed with explanation</td>\n",
       "      <td>Yes</td>\n",
       "      <td>NaN</td>\n",
       "      <td>3425257.0</td>\n",
       "    </tr>\n",
       "    <tr>\n",
       "      <th>7</th>\n",
       "      <td>2019-07-08</td>\n",
       "      <td>credit_report</td>\n",
       "      <td>Credit reporting</td>\n",
       "      <td>Problem with a credit reporting company's inve...</td>\n",
       "      <td>Their investigation did not fix an error on yo...</td>\n",
       "      <td>Hello This complaint is against the three cred...</td>\n",
       "      <td>Company has responded to the consumer and the ...</td>\n",
       "      <td>TRANSUNION INTERMEDIATE HOLDINGS, INC.</td>\n",
       "      <td>NY</td>\n",
       "      <td>109XX</td>\n",
       "      <td>NaN</td>\n",
       "      <td>Consent provided</td>\n",
       "      <td>Web</td>\n",
       "      <td>2019-07-08</td>\n",
       "      <td>Closed with explanation</td>\n",
       "      <td>Yes</td>\n",
       "      <td>NaN</td>\n",
       "      <td>3299394.0</td>\n",
       "    </tr>\n",
       "    <tr>\n",
       "      <th>8</th>\n",
       "      <td>2020-06-10</td>\n",
       "      <td>credit_report</td>\n",
       "      <td>Credit reporting</td>\n",
       "      <td>Improper use of your report</td>\n",
       "      <td>Credit inquiries on your report that you don't...</td>\n",
       "      <td>I am a victim of Identity Theft &amp; currently ha...</td>\n",
       "      <td>Company has responded to the consumer and the ...</td>\n",
       "      <td>Experian Information Solutions Inc.</td>\n",
       "      <td>MT</td>\n",
       "      <td>NaN</td>\n",
       "      <td>Servicemember</td>\n",
       "      <td>Consent provided</td>\n",
       "      <td>Web</td>\n",
       "      <td>2020-06-10</td>\n",
       "      <td>Closed with explanation</td>\n",
       "      <td>Yes</td>\n",
       "      <td>NaN</td>\n",
       "      <td>3692762.0</td>\n",
       "    </tr>\n",
       "    <tr>\n",
       "      <th>10</th>\n",
       "      <td>2019-07-03</td>\n",
       "      <td>credit_report</td>\n",
       "      <td>Credit reporting</td>\n",
       "      <td>Incorrect information on your report</td>\n",
       "      <td>Account information incorrect</td>\n",
       "      <td>Two accounts are still on my credit history af...</td>\n",
       "      <td>Company has responded to the consumer and the ...</td>\n",
       "      <td>Experian Information Solutions Inc.</td>\n",
       "      <td>FL</td>\n",
       "      <td>328XX</td>\n",
       "      <td>NaN</td>\n",
       "      <td>Consent provided</td>\n",
       "      <td>Web</td>\n",
       "      <td>2019-07-03</td>\n",
       "      <td>Closed with non-monetary relief</td>\n",
       "      <td>Yes</td>\n",
       "      <td>NaN</td>\n",
       "      <td>3294745.0</td>\n",
       "    </tr>\n",
       "    <tr>\n",
       "      <th>13</th>\n",
       "      <td>2019-03-21</td>\n",
       "      <td>credit_report</td>\n",
       "      <td>Other personal consumer report</td>\n",
       "      <td>Identity theft protection or other monitoring ...</td>\n",
       "      <td>Received unwanted marketing or advertising</td>\n",
       "      <td>Receiving daily telephone call ( s ) from XXXX...</td>\n",
       "      <td>Company has responded to the consumer and the ...</td>\n",
       "      <td>NRA Group, LLC</td>\n",
       "      <td>MA</td>\n",
       "      <td>NaN</td>\n",
       "      <td>NaN</td>\n",
       "      <td>Consent provided</td>\n",
       "      <td>Web</td>\n",
       "      <td>2019-03-27</td>\n",
       "      <td>Closed with explanation</td>\n",
       "      <td>Yes</td>\n",
       "      <td>NaN</td>\n",
       "      <td>3186954.0</td>\n",
       "    </tr>\n",
       "  </tbody>\n",
       "</table>\n",
       "</div>"
      ],
      "text/plain": [
       "   Date received        Product                     Sub-product  \\\n",
       "1     2019-11-01   vehicle_loan                            Loan   \n",
       "7     2019-07-08  credit_report                Credit reporting   \n",
       "8     2020-06-10  credit_report                Credit reporting   \n",
       "10    2019-07-03  credit_report                Credit reporting   \n",
       "13    2019-03-21  credit_report  Other personal consumer report   \n",
       "\n",
       "                                                Issue  \\\n",
       "1                         Struggling to pay your loan   \n",
       "7   Problem with a credit reporting company's inve...   \n",
       "8                         Improper use of your report   \n",
       "10               Incorrect information on your report   \n",
       "13  Identity theft protection or other monitoring ...   \n",
       "\n",
       "                                            Sub-issue  \\\n",
       "1                    Denied request to lower payments   \n",
       "7   Their investigation did not fix an error on yo...   \n",
       "8   Credit inquiries on your report that you don't...   \n",
       "10                      Account information incorrect   \n",
       "13         Received unwanted marketing or advertising   \n",
       "\n",
       "                         Consumer complaint narrative  \\\n",
       "1   I contacted Ally on Friday XX/XX/XXXX after fa...   \n",
       "7   Hello This complaint is against the three cred...   \n",
       "8   I am a victim of Identity Theft & currently ha...   \n",
       "10  Two accounts are still on my credit history af...   \n",
       "13  Receiving daily telephone call ( s ) from XXXX...   \n",
       "\n",
       "                              Company public response  \\\n",
       "1   Company has responded to the consumer and the ...   \n",
       "7   Company has responded to the consumer and the ...   \n",
       "8   Company has responded to the consumer and the ...   \n",
       "10  Company has responded to the consumer and the ...   \n",
       "13  Company has responded to the consumer and the ...   \n",
       "\n",
       "                                   Company State ZIP code           Tags  \\\n",
       "1                      ALLY FINANCIAL INC.    NJ    088XX            NaN   \n",
       "7   TRANSUNION INTERMEDIATE HOLDINGS, INC.    NY    109XX            NaN   \n",
       "8      Experian Information Solutions Inc.    MT      NaN  Servicemember   \n",
       "10     Experian Information Solutions Inc.    FL    328XX            NaN   \n",
       "13                          NRA Group, LLC    MA      NaN            NaN   \n",
       "\n",
       "   Consumer consent provided? Submitted via Date sent to company  \\\n",
       "1            Consent provided           Web           2019-11-01   \n",
       "7            Consent provided           Web           2019-07-08   \n",
       "8            Consent provided           Web           2020-06-10   \n",
       "10           Consent provided           Web           2019-07-03   \n",
       "13           Consent provided           Web           2019-03-27   \n",
       "\n",
       "       Company response to consumer Timely response? Consumer disputed?  \\\n",
       "1           Closed with explanation              Yes                NaN   \n",
       "7           Closed with explanation              Yes                NaN   \n",
       "8           Closed with explanation              Yes                NaN   \n",
       "10  Closed with non-monetary relief              Yes                NaN   \n",
       "13          Closed with explanation              Yes                NaN   \n",
       "\n",
       "    Complaint ID  \n",
       "1      3425257.0  \n",
       "7      3299394.0  \n",
       "8      3692762.0  \n",
       "10     3294745.0  \n",
       "13     3186954.0  "
      ]
     },
     "execution_count": 6,
     "metadata": {},
     "output_type": "execute_result"
    }
   ],
   "source": [
    "product_map = {'Vehicle loan or lease': 'vehicle_loan',\n",
    "               'Credit reporting, credit repair services, or other personal consumer reports': 'credit_report',\n",
    "               'Credit card or prepaid card': 'card',\n",
    "               'Money transfer, virtual currency, or money service': 'money_transfer',\n",
    "               'virtual currency': 'money_transfer',\n",
    "               'Mortgage': 'mortgage',\n",
    "               'Payday loan, title loan, or personal loan': 'loan',\n",
    "               'Debt collection': 'debt_collection',\n",
    "               'Checking or savings account': 'savings_account',\n",
    "               'Credit card': 'card',\n",
    "               'Bank account or service': 'savings_account',\n",
    "               'Credit reporting': 'credit_report',\n",
    "               'Prepaid card': 'card',\n",
    "               'Payday loan': 'loan',\n",
    "               'Other financial service': 'others',\n",
    "               'Virtual currency': 'money_transfer',\n",
    "               'Student loan': 'loan',\n",
    "               'Consumer Loan': 'loan',\n",
    "               'Money transfers': 'money_transfer'}\n",
    "data.replace({\"Product\": product_map}, inplace=True)\n",
    "data.head()"
   ]
  },
  {
   "cell_type": "code",
   "execution_count": 10,
   "id": "bd65f868-8fc3-4607-9c69-523bba228415",
   "metadata": {
    "scrolled": true
   },
   "outputs": [
    {
     "name": "stdout",
     "output_type": "stream",
     "text": [
      "Product\n",
      "credit_report      83297\n",
      "debt_collection    28216\n",
      "card               15499\n",
      "mortgage           12333\n",
      "savings_account     9648\n",
      "loan                5970\n",
      "money_transfer      4436\n",
      "vehicle_loan        3578\n",
      "others                 8\n",
      "Name: count, dtype: int64\n"
     ]
    }
   ],
   "source": [
    "# Check the frequency of each labeled product\n",
    "frequency = data['Product'].value_counts()\n",
    "print(frequency)\n",
    "frequency = pd.DataFrame(label_encoder.inverse_transform(labels)).value_counts()"
   ]
  },
  {
   "cell_type": "code",
   "execution_count": 8,
   "id": "6749bff4-2110-46e8-924d-b7c5f9fbff3a",
   "metadata": {},
   "outputs": [
    {
     "data": {
      "image/png": "[encoded data removed]",
      "text/plain": [
       "<Figure size 600x500 with 1 Axes>"
      ]
     },
     "metadata": {},
     "output_type": "display_data"
    }
   ],
   "source": [
    "# Plot the distribution of the labels \n",
    "# Plot the frequency distribution\n",
    "frequency.plot(kind='bar', figsize=(6, 5))\n",
    "plt.xlabel('Labels')\n",
    "plt.ylabel('Frequency')\n",
    "plt.title('Frequency Distribution of Labels')\n",
    "plt.xticks(range(9))  # Ensuring all labels from 0 to 8 are shown\n",
    "plt.xticks(rotation=90)\n",
    "plt.grid(axis='y')\n",
    "plt.show()"
   ]
  },
  {
   "cell_type": "markdown",
   "id": "96e8ec26-7341-43cb-bfa5-47722ecd9352",
   "metadata": {},
   "source": [
    "So our goal becomes to choose a stratified sample from the dataset before defining the independent x and dependent y. Note that if we pick the training dataset such that it also follows the population distribution, then the model is biased towards 1 and predicts many samples to be under that category. So to avoid this, we will pick an equal number of samples from each category; except for category 6 for which we only have 8 samples.  \n",
    "how to do? \n",
    "there must be a grouping based on the labels. we want the same number of categories in our training set so that the data is balanced. "
   ]
  },
  {
   "cell_type": "code",
   "execution_count": 9,
   "id": "48e237a2-e81a-438f-b4c8-63fd9af2a242",
   "metadata": {},
   "outputs": [
    {
     "name": "stdout",
     "output_type": "stream",
     "text": [
      "(162985,)\n"
     ]
    },
    {
     "data": {
      "text/plain": [
       "array([8, 1, 1, ..., 1, 2, 8])"
      ]
     },
     "execution_count": 9,
     "metadata": {},
     "output_type": "execute_result"
    }
   ],
   "source": [
    "label_encoder = LabelEncoder()\n",
    "label_encoder.fit(data[\"Product\"]) #looks through the column 'Product' and assigns a factor to each category. \n",
    "\n",
    "labels = label_encoder.transform(data[\"Product\"]) #replace the categories with their corresponding integers assigned. \n",
    "print(labels.shape)\n",
    "labels"
   ]
  },
  {
   "cell_type": "code",
   "execution_count": 11,
   "id": "dbcef1ee-128c-49c8-a7a0-9bcb5502a8f7",
   "metadata": {},
   "outputs": [
    {
     "name": "stdout",
     "output_type": "stream",
     "text": [
      "1     I contacted Ally on Friday XX/XX/XXXX after fa...\n",
      "7     Hello This complaint is against the three cred...\n",
      "8     I am a victim of Identity Theft & currently ha...\n",
      "10    Two accounts are still on my credit history af...\n",
      "13    Receiving daily telephone call ( s ) from XXXX...\n",
      "Name: Consumer complaint narrative, dtype: object\n",
      "\n",
      "Number of samples: 162985\n"
     ]
    },
    {
     "data": {
      "text/plain": [
       "pandas.core.series.Series"
      ]
     },
     "execution_count": 11,
     "metadata": {},
     "output_type": "execute_result"
    }
   ],
   "source": [
    "x = data['Consumer complaint narrative']\n",
    "print(x.head())\n",
    "print(f\"\\nNumber of samples: {len(x)}\")\n",
    "type(x)"
   ]
  },
  {
   "cell_type": "code",
   "execution_count": 12,
   "id": "07c21466-f847-40fe-ae04-e8ab5a582852",
   "metadata": {},
   "outputs": [
    {
     "data": {
      "text/plain": [
       "'I contacted Ally on Friday XX/XX/XXXX after falling behind on payments due to being out of work for a short period of time due to an illness. I chated with a representative after logging into my account regarding my opitions to ensure I protect my credit and bring my account current. \\n\\nShe advised me that before an extenstion could be done, I had to make a payment in the amount of {$270.00}. I reviewed my finances, as I am playing catch up on all my bills and made this payment on Monday XX/XX/XXXX. This rep advised me, once this payment posts to my account to contact Ally back for an extention or to have a payment deffered to the end of my loan. \\n\\nWith this in mind, I contacted Ally again today and chatted with XXXX. I explained all of the above and the information I was provided when I chatted with the rep last week. She asked several questions and advised me that a one or two month  extension/deffered payment could be done however partial payment is needed! WHAT? She advised me {$230.00} or there abouts would be due within 10 days from me accepting the agreement and then the remaining bal of {$150.00} or there abouts would be due in XX/XX/XXXX. In XX/XX/XXXX, my payments of {$380.00} per month would resume. \\n\\nIf this was the case, I SHOULD HAVE JUST BEEN OFFERED THIS WHEN I JUST MADE MY PAYMENT so that I could catch up on my bills. \\n\\nThis company was working with XXXX in New Jersey which has since closed most likely due to illegal practices, they changed my loan company to this company after I had signed paperwork for another, kill you with interest rates and has NEVER once considered refiancing my vechile for a lower interest rate ( due to the age of the vechile other companies will not take it ) and THEY DO NOT WORK WITH YOU!'"
      ]
     },
     "execution_count": 12,
     "metadata": {},
     "output_type": "execute_result"
    }
   ],
   "source": [
    "# Convert the input to a list: \n",
    "x = list(x)\n",
    "x[0]"
   ]
  },
  {
   "cell_type": "code",
   "execution_count": 13,
   "id": "8528e01f-4fac-44d6-8a86-489ac1fe4672",
   "metadata": {},
   "outputs": [],
   "source": [
    "def edit_text(x): \n",
    "    \"\"\"\n",
    "    Input \n",
    "    \n",
    "    X       : The input sentences into the model. Note that X must be in the format of a list. \n",
    "    m       : The fixed length of the sequences. \n",
    "\n",
    "    Output\n",
    "    \n",
    "    Tokens : This is a list of dictionaries. Each dictionary corresponds to a sampel sequence. \n",
    "             The dictionary contains a vector of integers correponding to the words in the sequence \n",
    "             and an attention mask. \n",
    "    \"\"\"\n",
    "\n",
    "    # Convert the text into lower case: \n",
    "    input_text = [i.lower() for i in x]\n",
    "    \n",
    "    # Remove the punctuations: \n",
    "    input_text = [re.sub(r\"[^\\w\\d'\\s]+\", \" \", i) for i in input_text]\n",
    "    \n",
    "    # Remove digits from the text: \n",
    "    input_text = [re.sub(\"\\d+\", \"\", i) for i in input_text]\n",
    "    \n",
    "    # Remove more than one instance of 'x': \n",
    "    input_text = [re.sub(r'[x]{2,}', \"\", i) for i in input_text]\n",
    "    \n",
    "    # Once digits are removed, there will be double spaces between the words. Remove them: \n",
    "    input_text = [re.sub(' +', ' ', i) for i in input_text]\n",
    "    \n",
    "    #Tokenize the comments: \n",
    "    input_text = [word_tokenize(x) for x in tqdm(input_text)]\n",
    "\n",
    "    # Remove the stop words; significantly reduces the length of each complaint: \n",
    "    stop_word_list = set(stopwords.words('english'))\n",
    "    input_text = [[word for word in review if word not in stop_word_list] for review in input_text]\n",
    "\n",
    "    # Rejoin the strings: \n",
    "    input_text = [' '.join(review) for review in input_text]\n",
    "    \n",
    "    return(input_text)"
   ]
  },
  {
   "cell_type": "code",
   "execution_count": 14,
   "id": "ae688756-e302-44cf-9c9e-8b459800b687",
   "metadata": {
    "scrolled": true
   },
   "outputs": [
    {
     "name": "stderr",
     "output_type": "stream",
     "text": [
      "100%|█████████████████████████████████| 162985/162985 [00:32<00:00, 4982.52it/s]\n"
     ]
    },
    {
     "data": {
      "text/plain": [
       "'contacted ally friday falling behind payments due work short period time due illness chated representative logging account regarding opitions ensure protect credit bring account current advised extenstion could done make payment amount reviewed finances playing catch bills made payment monday rep advised payment posts account contact ally back extention payment deffered end loan mind contacted ally today chatted explained information provided chatted rep last week asked several questions advised one two month extension deffered payment could done however partial payment needed advised abouts would due within days accepting agreement remaining bal abouts would due payments per month would resume case offered made payment could catch bills company working new jersey since closed likely due illegal practices changed loan company company signed paperwork another kill interest rates never considered refiancing vechile lower interest rate due age vechile companies take work'"
      ]
     },
     "execution_count": 14,
     "metadata": {},
     "output_type": "execute_result"
    }
   ],
   "source": [
    "x = edit_text(x)\n",
    "x[0]"
   ]
  },
  {
   "cell_type": "code",
   "execution_count": 15,
   "id": "bddc3017-359c-4268-bf08-1a6ab06adb8b",
   "metadata": {},
   "outputs": [
    {
     "data": {
      "text/plain": [
       "57797"
      ]
     },
     "execution_count": 15,
     "metadata": {},
     "output_type": "execute_result"
    }
   ],
   "source": [
    "# Define a dictionary\n",
    "tokenizer = Tokenizer()\n",
    "tokenizer.fit_on_texts(x)\n",
    "vocab_size = len(tokenizer.word_index) + 1  # Add 1 for padding token\n",
    "vocab_size"
   ]
  },
  {
   "cell_type": "code",
   "execution_count": 16,
   "id": "fbe61f41-79e3-48cb-92bc-7d9a0dbe46ab",
   "metadata": {},
   "outputs": [],
   "source": [
    "#dividing the dataset into 75% training set and 25% test set: \n",
    "X_train, X_test, y_train, y_test = train_test_split(x,labels, \n",
    "                                   random_state=104,  \n",
    "                                   test_size=0.25,  \n",
    "                                   shuffle=True,\n",
    "                                   stratify=labels) \n"
   ]
  },
  {
   "cell_type": "code",
   "execution_count": 17,
   "id": "6a165dc2-92ac-4de3-be1f-3787ee5053fe",
   "metadata": {},
   "outputs": [],
   "source": [
    "# Let's compare the frequency of labels in the training and testing sets\n",
    "frequency_training = pd.DataFrame(label_encoder.inverse_transform(y_train)).value_counts()\n",
    "frequency_testing = pd.DataFrame(label_encoder.inverse_transform(y_test)).value_counts()\n"
   ]
  },
  {
   "cell_type": "code",
   "execution_count": 18,
   "id": "c0692688-b975-40d3-b518-25b843c8aa8d",
   "metadata": {},
   "outputs": [
    {
     "data": {
      "image/png": "[encoded data removed]",
      "text/plain": [
       "<Figure size 1000x600 with 1 Axes>"
      ]
     },
     "metadata": {},
     "output_type": "display_data"
    }
   ],
   "source": [
    "freq_df = pd.DataFrame({\n",
    "    'Original': frequency,\n",
    "    'Training': frequency_training,\n",
    "    'Testing': frequency_testing\n",
    "})\n",
    "freq_df.plot(kind='bar', figsize=(10, 6))\n",
    "plt.title('Frequency Distribution of Labels')\n",
    "plt.xlabel('Labels')\n",
    "plt.ylabel('Frequency')\n",
    "plt.xticks(rotation=0)  # Optional: Adjust x-axis label rotation\n",
    "plt.legend(title='Dataset')\n",
    "plt.xticks(rotation = 90)\n",
    "plt.show()"
   ]
  },
  {
   "cell_type": "code",
   "execution_count": 19,
   "id": "a10cde9f-e689-4a6c-8a9d-06966ab043d5",
   "metadata": {
    "scrolled": true
   },
   "outputs": [
    {
     "data": {
      "text/plain": [
       "\"shocked reviewed credit report found late payment dates days late sure happened believe made payments received statements happen personally went bank spoke relationship manager named area told bank made error automatic payment form fixed double payment made also 'm sure n't even catch prior thought monthly statement get contested employee internal bank error\""
      ]
     },
     "execution_count": 19,
     "metadata": {},
     "output_type": "execute_result"
    }
   ],
   "source": [
    "X_train[0]"
   ]
  },
  {
   "cell_type": "code",
   "execution_count": 20,
   "id": "d05b06fe-aef6-4a6a-bf66-1c8ed27c5e81",
   "metadata": {},
   "outputs": [
    {
     "name": "stderr",
     "output_type": "stream",
     "text": [
      "/opt/anaconda3/lib/python3.11/site-packages/seaborn/_oldcore.py:1119: FutureWarning: use_inf_as_na option is deprecated and will be removed in a future version. Convert inf values to NaN before operating instead.\n",
      "  with pd.option_context('mode.use_inf_as_na', True):\n"
     ]
    },
    {
     "data": {
      "image/png": "[encoded data removed]",
      "text/plain": [
       "<Figure size 1000x600 with 1 Axes>"
      ]
     },
     "metadata": {},
     "output_type": "display_data"
    }
   ],
   "source": [
    "import matplotlib.pyplot as plt\n",
    "import seaborn as sns\n",
    "lengths = [len(comment) for comment in x]\n",
    "\n",
    "# Plot the distribution of length \n",
    "plt.figure(figsize=(10, 6))\n",
    "sns.histplot(lengths, bins=100, kde=True)  # kde=True adds a kernel density estimate\n",
    "plt.title('Distribution of Complaints Lengths')\n",
    "plt.xlabel('Length of Comments (Number of Words)')\n",
    "plt.ylabel('Frequency')\n",
    "plt.xlim(0, 2000)\n",
    "plt.grid(True)\n",
    "plt.show()"
   ]
  },
  {
   "cell_type": "code",
   "execution_count": 21,
   "id": "c9b3e077-7d48-4da3-8751-c3109b157508",
   "metadata": {},
   "outputs": [],
   "source": [
    "tokenizer.fit_on_texts(X_train)\n",
    "# Convert texts to sequences of integers\n",
    "X_train_tokenized = tokenizer.texts_to_sequences(X_train)\n"
   ]
  },
  {
   "cell_type": "code",
   "execution_count": 22,
   "id": "34e1f0b6-30f6-4671-beae-61bb7ed39313",
   "metadata": {},
   "outputs": [
    {
     "data": {
      "text/plain": [
       "[362, 620, 252, 121, 31, 4789, 813, 1526, 13, 241]"
      ]
     },
     "execution_count": 22,
     "metadata": {},
     "output_type": "execute_result"
    }
   ],
   "source": [
    "X_train_tokenized[0][-10:]"
   ]
  },
  {
   "cell_type": "code",
   "execution_count": 23,
   "id": "ce585eb9-2810-4a0e-8eec-2c820e1b53e1",
   "metadata": {},
   "outputs": [
    {
     "data": {
      "text/plain": [
       "array([ 207,  372,  184,    2,   87,   97,  610,  180,    8,    5,    3,\n",
       "        538,  244,  621,  776,  276,    8, 3836,    8,   89,  200,  196,\n",
       "          1,   60,    5,  200,  123,  511,  142,    4,   82,  478,  132,\n",
       "        131,   65,    0,    0,    0,    0,    0,    0,    0,    0,    0,\n",
       "          0,    0,    0,    0,    0,    0,    0,    0,    0,    0,    0,\n",
       "          0,    0,    0,    0,    0,    0,    0,    0,    0,    0,    0,\n",
       "          0,    0,    0,    0,    0,    0,    0,    0,    0,    0,    0,\n",
       "          0,    0,    0,    0,    0,    0,    0,    0,    0,    0,    0,\n",
       "          0,    0,    0,    0,    0,    0,    0,    0,    0,    0,    0,\n",
       "          0,    0,    0,    0,    0,    0,    0,    0,    0,    0,    0,\n",
       "          0,    0,    0,    0,    0,    0,    0,    0,    0,    0,    0,\n",
       "          0,    0,    0,    0,    0,    0,    0,    0,    0,    0,    0,\n",
       "          0,    0,    0,    0,    0,    0,    0,    0,    0,    0,    0,\n",
       "          0,    0,    0,    0,    0,    0,    0,    0,    0,    0,    0,\n",
       "          0,    0,    0,    0,    0,    0,    0,    0,    0,    0,    0,\n",
       "          0,    0,    0,    0,    0,    0,    0,    0,    0,    0,    0,\n",
       "          0,    0,    0,    0,    0,    0,    0,    0,    0,    0,    0,\n",
       "          0,    0,    0,    0,    0,    0,    0,    0,    0,    0,    0,\n",
       "          0,    0], dtype=int32)"
      ]
     },
     "execution_count": 23,
     "metadata": {},
     "output_type": "execute_result"
    }
   ],
   "source": [
    "X_train_tokenized = pad_sequences(X_train_tokenized, maxlen=200, padding='post')\n",
    "X_train_tokenized[210]"
   ]
  },
  {
   "cell_type": "code",
   "execution_count": 24,
   "id": "095df9a8-1810-4444-a66f-729a48bf15c7",
   "metadata": {
    "scrolled": true
   },
   "outputs": [
    {
     "data": {
      "text/plain": [
       "array([ 423,  235,  110,    1,    3,  795, 2021,  662,  169, 1295,  882,\n",
       "          3,    0,    0,    0,    0,    0,    0,    0,    0,    0,    0,\n",
       "          0,    0,    0,    0,    0,    0,    0,    0,    0,    0,    0,\n",
       "          0,    0,    0,    0,    0,    0,    0,    0,    0,    0,    0,\n",
       "          0,    0,    0,    0,    0,    0,    0,    0,    0,    0,    0,\n",
       "          0,    0,    0,    0,    0,    0,    0,    0,    0,    0,    0,\n",
       "          0,    0,    0,    0,    0,    0,    0,    0,    0,    0,    0,\n",
       "          0,    0,    0,    0,    0,    0,    0,    0,    0,    0,    0,\n",
       "          0,    0,    0,    0,    0,    0,    0,    0,    0,    0,    0,\n",
       "          0,    0,    0,    0,    0,    0,    0,    0,    0,    0,    0,\n",
       "          0,    0,    0,    0,    0,    0,    0,    0,    0,    0,    0,\n",
       "          0,    0,    0,    0,    0,    0,    0,    0,    0,    0,    0,\n",
       "          0,    0,    0,    0,    0,    0,    0,    0,    0,    0,    0,\n",
       "          0,    0,    0,    0,    0,    0,    0,    0,    0,    0,    0,\n",
       "          0,    0,    0,    0,    0,    0,    0,    0,    0,    0,    0,\n",
       "          0,    0,    0,    0,    0,    0,    0,    0,    0,    0,    0,\n",
       "          0,    0,    0,    0,    0,    0,    0,    0,    0,    0,    0,\n",
       "          0,    0,    0,    0,    0,    0,    0,    0,    0,    0,    0,\n",
       "          0,    0], dtype=int32)"
      ]
     },
     "execution_count": 24,
     "metadata": {},
     "output_type": "execute_result"
    }
   ],
   "source": [
    "tokenizer.fit_on_texts(X_test)\n",
    "# Convert texts to sequences of integers\n",
    "X_test_tokenized= tokenizer.texts_to_sequences(X_test)\n",
    "# Add the paddings \n",
    "X_test_tokenized = pad_sequences(X_test_tokenized, maxlen=200, padding='post')\n",
    "X_test_tokenized[0]"
   ]
  },
  {
   "cell_type": "code",
   "execution_count": 25,
   "id": "6b3a5d8c-1778-4a60-9972-e166f1734d06",
   "metadata": {},
   "outputs": [
    {
     "data": {
      "text/plain": [
       "(40747, 200)"
      ]
     },
     "execution_count": 25,
     "metadata": {},
     "output_type": "execute_result"
    }
   ],
   "source": [
    "X_test_tokenized.shape"
   ]
  },
  {
   "cell_type": "markdown",
   "id": "efc5edf4-d47b-4681-8165-cfefa85f615e",
   "metadata": {},
   "source": [
    "This tokenization occurs based on the frequency of the words (bag of words) "
   ]
  },
  {
   "cell_type": "code",
   "execution_count": 53,
   "id": "5827cee8-86c5-4be2-b2bd-3e92c692a5ac",
   "metadata": {
    "scrolled": true
   },
   "outputs": [
    {
     "name": "stderr",
     "output_type": "stream",
     "text": [
      "/opt/anaconda3/lib/python3.11/site-packages/keras/src/layers/core/embedding.py:90: UserWarning: Argument `input_length` is deprecated. Just remove it.\n",
      "  warnings.warn(\n"
     ]
    },
    {
     "data": {
      "text/plain": [
       "TensorShape([122238, 200, 50])"
      ]
     },
     "execution_count": 53,
     "metadata": {},
     "output_type": "execute_result"
    }
   ],
   "source": [
    "# Example of the Embedding layer: \n",
    "embedding_dim = 50  # Dimensionality of the embedding vector\n",
    "\n",
    "embedding_layer = tf.keras.layers.Embedding(input_dim=vocab_size, output_dim=embedding_dim, input_length=200)\n",
    "X_trainmod = embedding_layer(X_train_tokenized)\n",
    "X_testmod = embedding_layer(X_test_tokenized)\n",
    "X_trainmod.shape"
   ]
  },
  {
   "cell_type": "code",
   "execution_count": 17,
   "id": "0461fb0d-54dd-4c20-96c1-4ab4e18cf00c",
   "metadata": {},
   "outputs": [
    {
     "data": {
      "text/plain": [
       "<tf.Tensor: shape=(50,), dtype=float32, numpy=\n",
       "array([-0.01532959,  0.01855406, -0.02964407, -0.04449312,  0.04442677,\n",
       "        0.04172537,  0.03704533, -0.00019524,  0.04475288, -0.04934553,\n",
       "       -0.04141152, -0.01694614, -0.0434658 , -0.03270526,  0.011671  ,\n",
       "       -0.04854363, -0.02200906,  0.0401073 ,  0.02891589, -0.03398073,\n",
       "        0.02791942, -0.03443774,  0.04231251, -0.00308875,  0.01601509,\n",
       "       -0.01544087, -0.00380721, -0.00526493, -0.01844056, -0.03153126,\n",
       "        0.03933065, -0.03657141,  0.00318868,  0.00161099,  0.04278022,\n",
       "        0.0284874 , -0.03851178,  0.03986325,  0.00304899, -0.03177607,\n",
       "        0.0172457 ,  0.0140498 ,  0.01506401,  0.02259262,  0.00681389,\n",
       "       -0.03341268, -0.0057282 , -0.03384151,  0.02252359, -0.02390413],\n",
       "      dtype=float32)>"
      ]
     },
     "execution_count": 17,
     "metadata": {},
     "output_type": "execute_result"
    }
   ],
   "source": [
    "X_trainmod[0][0] #first sample first word "
   ]
  },
  {
   "cell_type": "markdown",
   "id": "aced0914-9887-447f-8cba-3efd21b4392f",
   "metadata": {},
   "source": [
    "### Add padding "
   ]
  },
  {
   "cell_type": "code",
   "execution_count": 26,
   "id": "4b10e736-4cd5-4de2-ba09-ab7f5e2d5d96",
   "metadata": {},
   "outputs": [],
   "source": [
    "def create_padding_mask(matrix,num_heads):\n",
    "    \"\"\"\n",
    "    Creates a matrix mask for the padding cells\n",
    "    \n",
    "    Arguments:\n",
    "        seq -- (n, m) matrix\n",
    "    \n",
    "    Returns:\n",
    "        mask -- (n, 1, 1, m) binary tensor\n",
    "    \"\"\"\n",
    "    # Check what indexes are 0\n",
    "    zero_rows = tf.cast(tf.equal(matrix, 0), dtype=tf.float32)\n",
    "    padded_matrix_1 = tf.repeat(tf.expand_dims(zero_rows, axis=1), repeats=num_heads, axis=1)\n",
    "    padded_matrix = tf.cast(tf.expand_dims(padded_matrix_1, axis=-2),dtype=tf.float32)\n",
    "\n",
    "    return padded_matrix"
   ]
  },
  {
   "cell_type": "code",
   "execution_count": 55,
   "id": "2cacf369-cfce-49da-8efb-e4e3343b8743",
   "metadata": {},
   "outputs": [
    {
     "data": {
      "text/plain": [
       "TensorShape([122238, 2, 1, 200])"
      ]
     },
     "execution_count": 55,
     "metadata": {},
     "output_type": "execute_result"
    }
   ],
   "source": [
    "padding_mask = create_padding_mask(X_train_tokenized,2)\n",
    "padding_mask.shape"
   ]
  },
  {
   "cell_type": "code",
   "execution_count": 23,
   "id": "d857bd45-522c-42c1-9149-0cbd141bf494",
   "metadata": {},
   "outputs": [
    {
     "data": {
      "text/plain": [
       "<tf.Tensor: shape=(2, 1, 100), dtype=float32, numpy=\n",
       "array([[[0., 0., 0., 0., 0., 0., 0., 0., 0., 0., 0., 0., 0., 0., 0., 0.,\n",
       "         0., 0., 0., 0., 0., 0., 0., 0., 0., 0., 0., 0., 0., 0., 0., 0.,\n",
       "         0., 0., 0., 0., 0., 0., 0., 0., 0., 0., 0., 0., 0., 0., 0., 0.,\n",
       "         0., 0., 0., 0., 0., 0., 0., 0., 0., 0., 0., 0., 0., 0., 0., 0.,\n",
       "         0., 0., 0., 0., 0., 0., 0., 0., 0., 0., 0., 0., 0., 0., 0., 0.,\n",
       "         0., 0., 0., 0., 0., 0., 0., 0., 0., 0., 0., 0., 0., 0., 0., 0.,\n",
       "         0., 1., 1., 1.]],\n",
       "\n",
       "       [[0., 0., 0., 0., 0., 0., 0., 0., 0., 0., 0., 0., 0., 0., 0., 0.,\n",
       "         0., 0., 0., 0., 0., 0., 0., 0., 0., 0., 0., 0., 0., 0., 0., 0.,\n",
       "         0., 0., 0., 0., 0., 0., 0., 0., 0., 0., 0., 0., 0., 0., 0., 0.,\n",
       "         0., 0., 0., 0., 0., 0., 0., 0., 0., 0., 0., 0., 0., 0., 0., 0.,\n",
       "         0., 0., 0., 0., 0., 0., 0., 0., 0., 0., 0., 0., 0., 0., 0., 0.,\n",
       "         0., 0., 0., 0., 0., 0., 0., 0., 0., 0., 0., 0., 0., 0., 0., 0.,\n",
       "         0., 1., 1., 1.]]], dtype=float32)>"
      ]
     },
     "execution_count": 23,
     "metadata": {},
     "output_type": "execute_result"
    }
   ],
   "source": [
    "padding_mask[0]"
   ]
  },
  {
   "cell_type": "markdown",
   "id": "6bf08bcd-8943-4a21-9c18-4b153a3ea1cc",
   "metadata": {
    "jp-MarkdownHeadingCollapsed": true
   },
   "source": [
    "### Add GloVe embeddings: "
   ]
  },
  {
   "cell_type": "code",
   "execution_count": 162,
   "id": "e21f65b0-7cd3-48f9-9c1a-8d4cbff12b4c",
   "metadata": {},
   "outputs": [],
   "source": [
    "# Load the word embeddigns:\n",
    "embeddings_dict = {}\n",
    "with open(\"glove.6B.50d.txt\", 'r') as f:\n",
    "    for line in f:\n",
    "        values = line.split()\n",
    "        word = values[0]\n",
    "        vector = np.asarray(values[1:], \"float32\")\n",
    "        embeddings_dict[word] = vector\n",
    "\n",
    "words =  list(embeddings_dict.keys())\n",
    "vectors = [embeddings_dict[word] for word in words]"
   ]
  },
  {
   "cell_type": "code",
   "execution_count": 39,
   "id": "862b8fb1-dfe0-49b8-b1fc-24e66fdfe01f",
   "metadata": {},
   "outputs": [],
   "source": [
    "def gvec_input(x,m,e): \n",
    "\n",
    "    \"    This function takes any input, x, and returns a glove vector based on the \\n\",\n",
    "    \"    words introduced in the vocabulary (400,000 words). This function returns k vectors where k is the number of words in the \\n\",\n",
    "    \"    sentence. Every vector corresponds to a word in the dictionary and each entry will describe a feature of the word. \\n\",\n",
    "    \"    \\n\",\n",
    "    \"    inputs: \\n\",\n",
    "    \"    \\n\",\n",
    "    \"    x (string) : a statement from customers. \\n\",\n",
    "    \"    m (int)    : size of the sequence \\n\",\n",
    "    \"    e (int)    : size of the embeddings \\n\",\n",
    "    \"    outputs: \\n\",\n",
    "    \"    v (m,n)    : where m is the number of words in the sentence and n = 50 is the number of total features describing a word. \\n\",\n",
    "    \"\\n\",\n",
    "    n = len(x)\n",
    "    gv = np.zeros((n,m, e))\n",
    "\n",
    "    for i in range(0, n): #looping over each comment \n",
    "        if i % 500 == 0:\n",
    "            print(f\" progress {(i/n)*100}%\")\n",
    "        txt = x[i] #select the ith comment  \n",
    "        txt = (txt[:m] if len(txt) > m else txt + ['<pad>'] * (m - len(txt))) #shorten or add extra padding\n",
    "        for l in range(m): #looping over each word \n",
    "        \n",
    "            # add the embedding of all ones for pads\n",
    "            if txt[l] == \"<pad>\": \n",
    "                gv[i,l,:] = np.zeros(e) \n",
    "        \n",
    "            # if a word is not is the list of Glove embeddings, then assign an array which is the average of all embeddings:  \n",
    "            elif txt[l] not in words: \n",
    "                gv[i,l,:] = np.mean(vectors, axis = 0)\n",
    "                # add the word embeddings: \n",
    "            else: \n",
    "                gv[i,l,:] = embeddings_dict[txt[l]]\n",
    "    return(gv)"
   ]
  },
  {
   "cell_type": "code",
   "execution_count": 41,
   "id": "5c465ab8-d5d9-4358-a3aa-1ab1d656eede",
   "metadata": {},
   "outputs": [
    {
     "name": "stdout",
     "output_type": "stream",
     "text": [
      " progress 0.0%\n"
     ]
    },
    {
     "ename": "ValueError",
     "evalue": "'T' is not in list",
     "output_type": "error",
     "traceback": [
      "\u001b[0;31m---------------------------------------------------------------------------\u001b[0m",
      "\u001b[0;31mValueError\u001b[0m                                Traceback (most recent call last)",
      "Cell \u001b[0;32mIn[41], line 4\u001b[0m\n\u001b[1;32m      2\u001b[0m e \u001b[38;5;241m=\u001b[39m \u001b[38;5;241m50\u001b[39m\n\u001b[1;32m      3\u001b[0m \u001b[38;5;66;03m#X_trainmod = gvec_input(X_train,m,e)\u001b[39;00m\n\u001b[0;32m----> 4\u001b[0m X_testmod \u001b[38;5;241m=\u001b[39m gvec_input(X_test,m,e)\n",
      "Cell \u001b[0;32mIn[39], line 35\u001b[0m, in \u001b[0;36mgvec_input\u001b[0;34m(x, m, e)\u001b[0m\n\u001b[1;32m     27\u001b[0m             gv[i,l,:] \u001b[38;5;241m=\u001b[39m np\u001b[38;5;241m.\u001b[39mzeros(e) \n\u001b[1;32m     29\u001b[0m         \u001b[38;5;66;03m# if a word is not is the list of Glove embeddings, then assign an array which is the average of all embeddings:  \u001b[39;00m\n\u001b[1;32m     30\u001b[0m         \u001b[38;5;66;03m#elif txt[l] not in words: \u001b[39;00m\n\u001b[1;32m     31\u001b[0m             \u001b[38;5;66;03m#gv[i,l,:] = np.mean(vectors, axis = 0)\u001b[39;00m\n\u001b[1;32m     32\u001b[0m             \u001b[38;5;66;03m# add the word embeddings: \u001b[39;00m\n\u001b[1;32m     33\u001b[0m         \u001b[38;5;28;01melse\u001b[39;00m: \n\u001b[1;32m     34\u001b[0m             \u001b[38;5;66;03m#gv[i,l,:] = embeddings_dict[txt[l]]\u001b[39;00m\n\u001b[0;32m---> 35\u001b[0m             index \u001b[38;5;241m=\u001b[39m dictionary\u001b[38;5;241m.\u001b[39mindex(txt[l])\n\u001b[1;32m     36\u001b[0m             gv[i,l,index] \u001b[38;5;241m=\u001b[39m \u001b[38;5;241m1\u001b[39m\n\u001b[1;32m     37\u001b[0m \u001b[38;5;28;01mreturn\u001b[39;00m(gv)\n",
      "\u001b[0;31mValueError\u001b[0m: 'T' is not in list"
     ]
    }
   ],
   "source": [
    "m = 30\n",
    "e = 50\n",
    "X_trainmod = gvec_input(X_train,m,e)\n",
    "X_testmod = gvec_input(X_test,m,e)"
   ]
  },
  {
   "cell_type": "markdown",
   "id": "af6b1261-d2ef-4427-a9f6-b0f8f14b0cd7",
   "metadata": {},
   "source": [
    "### Add Positional Encodings "
   ]
  },
  {
   "cell_type": "code",
   "execution_count": 27,
   "id": "73cc92fa-2a85-4b52-ac8e-470d2e4b0282",
   "metadata": {},
   "outputs": [],
   "source": [
    "# Calculate the angles for positional embeddings: \n",
    "\n",
    "def get_angles(pos, k, d):\n",
    "    \"\"\"\n",
    "    Get the angles for the positional encoding\n",
    "    \n",
    "    Arguments:\n",
    "        pos -- Column vector containing the positions [[0], [1], ...,[N-1]]\n",
    "        k --   Row vector containing the dimension span [[0, 1, 2, ..., d-1]]\n",
    "        d(integer) -- Encoding size\n",
    "    \n",
    "    Returns:\n",
    "        angles -- (pos, d) numpy array \n",
    "    \"\"\"\n",
    "    \n",
    "    # Get i from dimension span k\n",
    "    i = k//2\n",
    "    # Calculate the angles using pos, i and d\n",
    "    angles = pos/ (10000)**(2*i/d)\n",
    "\n",
    "    \n",
    "    return angles\n",
    "    \n",
    "def pos_emb(len_seq,len_emb): \n",
    "    \n",
    "    \"\"\"\n",
    "    This function creates the positional embeddings for all the words in the sequence based on: \n",
    "    \n",
    "    Input: \n",
    "    len_seq (int) : The length of the sequences inputed into the model. \n",
    "    len_emb (int) : The length of the word embeddings for every word in the sequence. \n",
    "\n",
    "    Note: the size of the positional encoding and the word embeddings must match in order to add them in the next step. \n",
    "\n",
    "    Output: \n",
    "    res (np.array(len_seq, len_emb)) : ith row of this matrix represents the positional encodings for the ith position in the sequence. \n",
    "\n",
    "    \"\"\"\n",
    "\n",
    "    len_i = int(len_emb/2)\n",
    "\n",
    "    # Initialize the matrix to save positional encodings: \n",
    "    res = np.zeros((len_seq,len_emb))\n",
    "    angles = np.zeros((len_seq,len_emb))\n",
    "    \n",
    "    #for each position in the sequence \n",
    "    for pos in range(len_seq): \n",
    "        \n",
    "        #calculate the angles: \n",
    "        for i in range(len_i): \n",
    "            angles[pos,2*i] = pos/(10000**(2*i/len_emb))\n",
    "            angles[pos, 2*i +1] = pos/(10000**(2*i/len_emb)) \n",
    "        \n",
    "        # Calculate the entries corresponding to each position \n",
    "        #for j in range(len_i): \n",
    "        res[pos, 0::2] = np.sin(angles[pos,0::2])\n",
    "        res[pos,1::2] = np.cos(angles[pos,0::2])\n",
    "            \n",
    "    return(tf.cast(res.reshape(1,len_seq,len_emb), dtype=tf.float32))\n"
   ]
  },
  {
   "cell_type": "code",
   "execution_count": 20,
   "id": "883fc9be-54d3-40d5-865c-ac88cdcc4822",
   "metadata": {},
   "outputs": [
    {
     "data": {
      "text/plain": [
       "TensorShape([1, 200, 50])"
      ]
     },
     "execution_count": 20,
     "metadata": {},
     "output_type": "execute_result"
    }
   ],
   "source": [
    "# Create the positional embeddings: \n",
    "position_enc = pos_emb(X_trainmod.shape[1],X_trainmod.shape[2])\n",
    "position_enc.shape"
   ]
  },
  {
   "cell_type": "code",
   "execution_count": 105,
   "id": "6b9d413a-971f-4e12-a334-9c71c3265ecb",
   "metadata": {},
   "outputs": [],
   "source": [
    "X_trainmod = X_trainmod + position_enc\n",
    "X_testmod = X_testmod + position_enc"
   ]
  },
  {
   "cell_type": "code",
   "execution_count": 28,
   "id": "77acc15f-ae65-4304-ac3d-aac58ad16c1c",
   "metadata": {},
   "outputs": [],
   "source": [
    "def self_attention(q,k,v,masking):\n",
    "    \"\"\"\n",
    "    \n",
    "    \"\"\"\n",
    "  \n",
    "    # Perform matrix multiplication on the last two dimensions\n",
    "    dotqk = tf.matmul(q, k, transpose_b = True)\n",
    "\n",
    "    #dim_k = tf.cast(k.shape[-1],tf.float32)\n",
    "    dim_k = tf.cast(80, tf.float32)\n",
    "    normalized_dotqk = dotqk/tf.math.sqrt(dim_k)\n",
    "    \n",
    "    # Add the masking if masking is given \n",
    "    if masking is not None: \n",
    "        normalized_dotqk += ((masking)* (-1e9))\n",
    "    \n",
    "    attention_scores =  tf.nn.softmax(tf.cast(normalized_dotqk, dtype=tf.float32),axis = -1)\n",
    "    res = tf.matmul(attention_scores,v) \n",
    "    \n",
    "    return(res)\n",
    "    "
   ]
  },
  {
   "cell_type": "code",
   "execution_count": 107,
   "id": "309815e1-e080-436a-a387-91701df6be32",
   "metadata": {},
   "outputs": [
    {
     "name": "stderr",
     "output_type": "stream",
     "text": [
      "\n",
      "KeyboardInterrupt\n",
      "\n"
     ]
    }
   ],
   "source": [
    "#Try the masking: \n",
    "\n",
    "# Define the query, key and, value matrices: \n",
    "dense_q = Dense(units = 100)(X_trainmod) # shape = (#samples, len_seq, dim_q)\n",
    "dense_k = Dense(units = 100)(X_trainmod) # shape = (#samples, len_seq, dim_k) \n",
    "dense_v = Dense(units = 100)(X_trainmod) # shape = (#samples, len_seq, dim_v) #change to 50. \n",
    " \n",
    "# Reshape the query, key, and value matrices: \n",
    "dense_qre = reshape_tensor(dense_q,2, pre_attention = True) #shape = (#samples, #heads, len_seq, dim_q/heads)\n",
    "dense_kre = reshape_tensor(dense_k, 2, pre_attention = True) #shape = (#samples, #heads, len_seq, dim_q/heads)\n",
    "dense_vre = reshape_tensor(dense_v, 2, pre_attention = True)\n",
    "\n",
    "#attention_scores = self_attention(dense_qre,dense_kre,dense_vre,padding_mask)\n",
    "res = self_attention(dense_qre,dense_kre,dense_vre,padding_mask)\n"
   ]
  },
  {
   "cell_type": "code",
   "execution_count": 59,
   "id": "b9462ed1-7bcb-4e10-96d3-3ad13ef50b11",
   "metadata": {
    "scrolled": true
   },
   "outputs": [
    {
     "data": {
      "text/plain": [
       "<tf.Tensor: shape=(50,), dtype=float32, numpy=\n",
       "array([-0.51053345, -0.04773722,  0.76349103, -0.7635521 , -0.22856613,\n",
       "       -0.0023451 ,  0.2145502 , -0.33623108, -0.50725746,  0.16156714,\n",
       "       -0.14343405, -0.29878387,  0.20546232, -0.22332083,  0.38140723,\n",
       "        0.08317636,  0.22844987, -0.55370027,  0.28367922,  0.32379758,\n",
       "       -0.25544998, -0.03225699,  0.31098932,  0.00795517, -0.49719796,\n",
       "       -0.5813063 , -0.4525945 , -0.17780016,  0.09577227, -0.32240254,\n",
       "       -0.27652648, -0.204484  , -0.5797683 ,  0.6834049 , -0.3971909 ,\n",
       "       -0.26123497, -0.62842476,  0.10069714, -0.4743479 , -0.19284444,\n",
       "        0.7964414 ,  0.8134905 ,  0.41335377, -0.8940038 , -0.11736995,\n",
       "        0.01199967,  0.02364826, -0.10487423,  0.27046034, -0.2163707 ],\n",
       "      dtype=float32)>"
      ]
     },
     "execution_count": 59,
     "metadata": {},
     "output_type": "execute_result"
    }
   ],
   "source": [
    "res[0][0][0]"
   ]
  },
  {
   "cell_type": "code",
   "execution_count": 63,
   "id": "e4e891e5-0583-4034-ba47-2edfbc747905",
   "metadata": {},
   "outputs": [
    {
     "data": {
      "text/plain": [
       "TensorShape([7500, 2, 100, 50])"
      ]
     },
     "execution_count": 63,
     "metadata": {},
     "output_type": "execute_result"
    }
   ],
   "source": [
    "res.shape"
   ]
  },
  {
   "cell_type": "code",
   "execution_count": 67,
   "id": "66c02757-7699-4244-aeb0-39efdd155601",
   "metadata": {},
   "outputs": [
    {
     "data": {
      "text/plain": [
       "TensorShape([7500, 100, 100])"
      ]
     },
     "execution_count": 67,
     "metadata": {},
     "output_type": "execute_result"
    }
   ],
   "source": [
    "reshape_tensor(res, 2, pre_attention = False).shape"
   ]
  },
  {
   "cell_type": "code",
   "execution_count": 29,
   "id": "6def6dac-d0be-4b54-9962-42d201ef0fa5",
   "metadata": {},
   "outputs": [],
   "source": [
    "def FullFeedForward(n_1, emb_size):#the model must return vectors of the same size as the embeddings of the input so can be combined with decoder\n",
    "    model = Sequential([\n",
    "    Dense(n_1, activation='tanh', name=\"dense1\"), #relu? (#samples, len_seq, n_1)\n",
    "    Dense(emb_size, activation='tanh', name=\"dense2\")# linear? (#samples, len_seq, emb_size)\n",
    "])\n",
    "    return(model)\n",
    "    "
   ]
  },
  {
   "cell_type": "code",
   "execution_count": 30,
   "id": "b2ef5e43-fd54-42fd-8fe1-0ddb080fe5ab",
   "metadata": {},
   "outputs": [],
   "source": [
    "# Define a reshape_tensor which will be later on used for the Multi-head attention: \n",
    "\n",
    "def reshape_tensor(q_matrix, heads, pre_attention): \n",
    "    \"\"\"\n",
    "    \"\"\"\n",
    "    \n",
    "    #pre_attention, we'll need to reform into 4d \n",
    "    if pre_attention:\n",
    "\n",
    "        dense_qre = reshape(q_matrix, (shape(q_matrix)[0], shape(q_matrix)[1], heads, -1))\n",
    "        dense_qre = transpose(dense_qre, ([0, 2, 1, 3])) #(#samples, num_heads,len_seq, dim_q/num_heads)\n",
    "        \n",
    "        \n",
    "    #post_attention, we'll need to revert back to 3d: \n",
    "    else: \n",
    "        q_matrix_transpose = transpose(q_matrix, ([0,2,1,3]))\n",
    "        dense_qre = reshape(q_matrix_transpose, (shape(q_matrix_transpose)[0], shape(q_matrix_transpose)[1], -1)) \n",
    "        \n",
    "        \n",
    "    return(dense_qre)\n",
    "        "
   ]
  },
  {
   "cell_type": "code",
   "execution_count": 31,
   "id": "30bf5bc6-46ca-40f3-bde8-41c4ff589d17",
   "metadata": {},
   "outputs": [],
   "source": [
    "class MultiHeadAttention(Layer): \n",
    "\n",
    "    def __init__(self, dim_kv, dim_q, heads, **kwargs):\n",
    "        \n",
    "        super(MultiHeadAttention, self).__init__(**kwargs) \n",
    "        self.heads = heads\n",
    "        self.denseq = Dense(units = dim_q)\n",
    "        self.densek = Dense(units = dim_kv)\n",
    "        self.densev = Dense(units = dim_kv) \n",
    "        \n",
    "    \n",
    "    def call(self,q,k,v,masking, **kwargs): #by passing self, you passed all the attributes you've defined above. \n",
    "       \n",
    "        # Define the query, key, and value matrices: \n",
    "        dense_q = tf.cast(self.denseq(q), dtype=tf.float32) # shape = (#samples, len_seq, dim_q)\n",
    "        dense_k = tf.cast(self.densek(k),dtype = tf.float32) # shape = (#samples, len_seq, dim_k) \n",
    "        dense_v = tf.cast(self.densev(v), dtype = tf.float32) # shape = (#samples, len_seq, dim_v) \n",
    "        \n",
    "        # Reshape: \n",
    "        dense_qre = reshape_tensor(dense_q, self.heads, pre_attention = True) #shape = (#samples, #heads, dim_q/heads, len_seq)\n",
    "        dense_kre = reshape_tensor(dense_k, self.heads, pre_attention = True) #shape = (#samples, #heads, dim_k/heads, len_seq)\n",
    "        dense_vre = reshape_tensor(dense_v, self.heads, pre_attention = True) #shape = (#samples, #heads, dim_v/heads, len_seq) \n",
    "\n",
    "        \n",
    "        # Calculate the attention scores: \n",
    "        attention_scores = self_attention(dense_qre, dense_kre,dense_vre,masking) #shape = (#samples, #heads, dim_q/heads, len_seq)\n",
    "        \n",
    "        # Revert the shape:\n",
    "        attention_with_v = reshape_tensor(attention_scores, self.heads, pre_attention = False) #shape = (#samples, len_seq, dim_q)\n",
    "        \n",
    "        return(attention_with_v)\n"
   ]
  },
  {
   "cell_type": "code",
   "execution_count": 26,
   "id": "16761829-fa8d-45b6-a973-77855c28c7eb",
   "metadata": {},
   "outputs": [
    {
     "data": {
      "text/plain": [
       "TensorShape([10, 4, 1, 200])"
      ]
     },
     "execution_count": 26,
     "metadata": {},
     "output_type": "execute_result"
    }
   ],
   "source": [
    "padding_mask = create_padding_mask(X_train_tokenized[0:10],4)\n",
    "padding_mask.shape"
   ]
  },
  {
   "cell_type": "code",
   "execution_count": 27,
   "id": "516997cc-07a8-4a6c-9d92-b0df6f62dee3",
   "metadata": {},
   "outputs": [
    {
     "name": "stdout",
     "output_type": "stream",
     "text": [
      "(10, 200, 40)\n",
      "mha with the padding mask took 0.06645607948303223 seconds\n"
     ]
    }
   ],
   "source": [
    "# Check if it works: \n",
    "dim_kv = 40\n",
    "dim_q = 40\n",
    "heads = 4\n",
    "masking = padding_mask\n",
    "function = MultiHeadAttention(dim_kv, dim_q, heads)\n",
    "\n",
    "#start timing \n",
    "start_time = time.time()\n",
    "print(function(X_trainmod[0:10], X_trainmod[0:10], X_trainmod[0:10],masking).shape)\n",
    "end_time = time.time() \n",
    "print(f\"mha with the padding mask took {(end_time-start_time)} seconds\")\n",
    "#once the padding mask is added it's taking longer to calculate the mha. "
   ]
  },
  {
   "cell_type": "code",
   "execution_count": 32,
   "id": "1abec57b-fdcf-4ecb-922c-e956457998b4",
   "metadata": {},
   "outputs": [],
   "source": [
    "class Encoder(Layer):\n",
    "    \n",
    "    def __init__(self, dim_kv, dim_q, heads, fnn_neurons, len_emb, iter, len_rank, vocab_size, drop_rate):\n",
    "        super(Encoder,self).__init__()\n",
    "        \n",
    "        self.heads        = heads\n",
    "        self.len_emb      = len_emb\n",
    "        self.iter         = iter\n",
    "        \n",
    "        \n",
    "        self.norm1        = LayerNormalization(epsilon = 1e-6)\n",
    "        self.norm2        = LayerNormalization(epsilon = 1e-6)\n",
    "        self.norm3        = LayerNormalization(epsilon = 1e-6)\n",
    "        \n",
    "        self.drop1        = Dropout(rate = drop_rate)\n",
    "        self.drop2        = Dropout(rate = drop_rate)\n",
    "        self.drop3        = Dropout(rate = drop_rate)\n",
    "        self.drop4        = Dropout(rate = drop_rate)\n",
    "        self.drop5        = Dropout(rate = drop_rate)\n",
    "        \n",
    "        self.emb_layer    = Embedding(input_dim=vocab_size, output_dim=len_emb, input_length=200)\n",
    "        self.fnn          = FullFeedForward(fnn_neurons, len_emb)\n",
    "        self.mha          = MultiHeadAttention(dim_kv, dim_q, heads)\n",
    "        self.dense1       = Dense(units = 1)\n",
    "        self.dense2       = Dense(units = len_rank, activation = 'softmax')\n",
    "        self.dense3       = Dense(units = len_emb)\n",
    "       \n",
    "        \n",
    "\n",
    "    def call(self,x,masking,training): \n",
    "        \n",
    "        \"\"\"\n",
    "       Task:  Classification of the customer complaints\n",
    "       \n",
    "       Compartments: \n",
    "          - Defining the padding_mask if necessary \n",
    "          - Embedding layer \n",
    "          - Positional encoding layer \n",
    "          - Encoder loop -> Multi-Head Attention + Feed Forward neural network \n",
    "          - Dense layer 1 with activation function 'linear' \n",
    "          - Dense layer 2 with activation function 'softmax'\n",
    "        \n",
    "       Input \n",
    "       x        : The tokenized customer complaints that are converted into integer vectors. Expected shape = (#samples, len_seq) \n",
    "       masking  : Boolean value if True, padding mask will be applied. \n",
    "       training : Boolean value if True, Dropout layers are active. \n",
    "\n",
    "       Output \n",
    "       probs    : Output probabilities shape = (#samples, #num_categories) \n",
    "       \n",
    "       \"\"\"\n",
    "        \n",
    "        # Define the masking if True\n",
    "        if masking == True: \n",
    "            padding_mask = create_padding_mask(x,self.heads)\n",
    "            \n",
    "        # Add the embedding layer \n",
    "        x = self.emb_layer(x)\n",
    "        len_seq = x.shape[1]\n",
    "        \n",
    "        # Add positional encodings: \n",
    "        x += pos_emb(len_seq, self.len_emb)\n",
    "\n",
    "        for _ in range(self.iter): \n",
    "            # Add dropout layer:\n",
    "            drop_x = self.drop1(x, training = training)\n",
    "            # Calculate the attention scores: \n",
    "            mha_scores = self.mha(drop_x, drop_x, drop_x,padding_mask)\n",
    "\n",
    "            # Add dropout and normalize: \n",
    "            dropout_1 = self.drop2(mha_scores, training = training)\n",
    "            norm_1  = self.norm1(dropout_1 + x )\n",
    "            \n",
    "            #Run through a fully connected neural network: \n",
    "            fnn_output = self.fnn(norm_1) \n",
    "              \n",
    "            # Add dropout:\n",
    "            dropout_2 = self.drop3(fnn_output, training = training)\n",
    "               \n",
    "            # Normalize: \n",
    "            x = self.norm2(dropout_2 + norm_1)\n",
    "\n",
    "        # Run through a dense layer to combine all the word embeddings of each word: \n",
    "        x = self.drop5(self.dense3(x))\n",
    "        x = self.dense1(x)\n",
    "        x = tf.squeeze(x, axis=-1)\n",
    "        x = self.norm3(self.drop4(x, training = training))\n",
    "        \n",
    "        # Run through a dense layer activation function = 'softmax': \n",
    "        probs = self.dense2(x)\n",
    "        \n",
    "        return probs\n"
   ]
  },
  {
   "cell_type": "code",
   "execution_count": 36,
   "id": "c93d5cb5-3a43-4ac3-8e4e-1d2cb899ac9f",
   "metadata": {},
   "outputs": [
    {
     "data": {
      "text/plain": [
       "TensorShape([100, 9])"
      ]
     },
     "execution_count": 36,
     "metadata": {},
     "output_type": "execute_result"
    }
   ],
   "source": [
    "dim_kv = 60 \n",
    "dim_q = 60\n",
    "len_emb = 60\n",
    "heads = 6\n",
    "fnn_neurons = 40\n",
    "drop_rate = 0.4\n",
    "len_rank = 9\n",
    "iter = 3 #based on the paper  \n",
    "encoder = Encoder(dim_kv, dim_q, heads, fnn_neurons, len_emb, iter, len_rank,vocab_size, drop_rate)\n",
    "output_encoder = encoder(X_train_tokenized[0:100],masking = True, training = True)# we need the padding mask before training. \n",
    "output_encoder.shape"
   ]
  },
  {
   "cell_type": "code",
   "execution_count": 193,
   "id": "dfb4c473-18f4-4cc4-b8c4-b3b23614b244",
   "metadata": {
    "scrolled": true
   },
   "outputs": [
    {
     "name": "stdout",
     "output_type": "stream",
     "text": [
      "tf.Tensor(\n",
      "[0.07411161 0.07419901 0.16975555 0.11949079 0.10802262 0.04904662\n",
      " 0.0156932  0.0086809  0.3809997 ], shape=(9,), dtype=float32)\n",
      "tf.Tensor(8, shape=(), dtype=int64)\n"
     ]
    }
   ],
   "source": [
    "print(output_encoder[0])\n",
    "print(tf.argmax(output_encoder[0]))"
   ]
  },
  {
   "cell_type": "code",
   "execution_count": 194,
   "id": "c2cb4a37-ce15-4546-87f7-0104422bfe61",
   "metadata": {},
   "outputs": [
    {
     "data": {
      "text/plain": [
       "(30000, 200)"
      ]
     },
     "execution_count": 194,
     "metadata": {},
     "output_type": "execute_result"
    }
   ],
   "source": [
    "X_train_tokenized.shape"
   ]
  },
  {
   "cell_type": "code",
   "execution_count": 37,
   "id": "c308840a-355f-4469-944f-39f05e8b6394",
   "metadata": {
    "scrolled": true
   },
   "outputs": [
    {
     "data": {
      "text/html": [
       "<pre style=\"white-space:pre;overflow-x:auto;line-height:normal;font-family:Menlo,'DejaVu Sans Mono',consolas,'Courier New',monospace\"><span style=\"font-weight: bold\">Model: \"functional_6\"</span>\n",
       "</pre>\n"
      ],
      "text/plain": [
       "\u001b[1mModel: \"functional_6\"\u001b[0m\n"
      ]
     },
     "metadata": {},
     "output_type": "display_data"
    },
    {
     "data": {
      "text/html": [
       "<pre style=\"white-space:pre;overflow-x:auto;line-height:normal;font-family:Menlo,'DejaVu Sans Mono',consolas,'Courier New',monospace\">┏━━━━━━━━━━━━━━━━━━━━━━━━━━━━━━━━━┳━━━━━━━━━━━━━━━━━━━━━━━━┳━━━━━━━━━━━━━━━┓\n",
       "┃<span style=\"font-weight: bold\"> Layer (type)                    </span>┃<span style=\"font-weight: bold\"> Output Shape           </span>┃<span style=\"font-weight: bold\">       Param # </span>┃\n",
       "┡━━━━━━━━━━━━━━━━━━━━━━━━━━━━━━━━━╇━━━━━━━━━━━━━━━━━━━━━━━━╇━━━━━━━━━━━━━━━┩\n",
       "│ input_layer_4 (<span style=\"color: #0087ff; text-decoration-color: #0087ff\">InputLayer</span>)      │ (<span style=\"color: #00d7ff; text-decoration-color: #00d7ff\">None</span>, <span style=\"color: #00af00; text-decoration-color: #00af00\">200</span>)            │             <span style=\"color: #00af00; text-decoration-color: #00af00\">0</span> │\n",
       "├─────────────────────────────────┼────────────────────────┼───────────────┤\n",
       "│ encoder_2 (<span style=\"color: #0087ff; text-decoration-color: #0087ff\">Encoder</span>)             │ (<span style=\"color: #00d7ff; text-decoration-color: #00d7ff\">None</span>, <span style=\"color: #00af00; text-decoration-color: #00af00\">9</span>)              │     <span style=\"color: #00af00; text-decoration-color: #00af00\">3,489,870</span> │\n",
       "└─────────────────────────────────┴────────────────────────┴───────────────┘\n",
       "</pre>\n"
      ],
      "text/plain": [
       "┏━━━━━━━━━━━━━━━━━━━━━━━━━━━━━━━━━┳━━━━━━━━━━━━━━━━━━━━━━━━┳━━━━━━━━━━━━━━━┓\n",
       "┃\u001b[1m \u001b[0m\u001b[1mLayer (type)                   \u001b[0m\u001b[1m \u001b[0m┃\u001b[1m \u001b[0m\u001b[1mOutput Shape          \u001b[0m\u001b[1m \u001b[0m┃\u001b[1m \u001b[0m\u001b[1m      Param #\u001b[0m\u001b[1m \u001b[0m┃\n",
       "┡━━━━━━━━━━━━━━━━━━━━━━━━━━━━━━━━━╇━━━━━━━━━━━━━━━━━━━━━━━━╇━━━━━━━━━━━━━━━┩\n",
       "│ input_layer_4 (\u001b[38;5;33mInputLayer\u001b[0m)      │ (\u001b[38;5;45mNone\u001b[0m, \u001b[38;5;34m200\u001b[0m)            │             \u001b[38;5;34m0\u001b[0m │\n",
       "├─────────────────────────────────┼────────────────────────┼───────────────┤\n",
       "│ encoder_2 (\u001b[38;5;33mEncoder\u001b[0m)             │ (\u001b[38;5;45mNone\u001b[0m, \u001b[38;5;34m9\u001b[0m)              │     \u001b[38;5;34m3,489,870\u001b[0m │\n",
       "└─────────────────────────────────┴────────────────────────┴───────────────┘\n"
      ]
     },
     "metadata": {},
     "output_type": "display_data"
    },
    {
     "data": {
      "text/html": [
       "<pre style=\"white-space:pre;overflow-x:auto;line-height:normal;font-family:Menlo,'DejaVu Sans Mono',consolas,'Courier New',monospace\"><span style=\"font-weight: bold\"> Total params: </span><span style=\"color: #00af00; text-decoration-color: #00af00\">3,489,870</span> (13.31 MB)\n",
       "</pre>\n"
      ],
      "text/plain": [
       "\u001b[1m Total params: \u001b[0m\u001b[38;5;34m3,489,870\u001b[0m (13.31 MB)\n"
      ]
     },
     "metadata": {},
     "output_type": "display_data"
    },
    {
     "data": {
      "text/html": [
       "<pre style=\"white-space:pre;overflow-x:auto;line-height:normal;font-family:Menlo,'DejaVu Sans Mono',consolas,'Courier New',monospace\"><span style=\"font-weight: bold\"> Trainable params: </span><span style=\"color: #00af00; text-decoration-color: #00af00\">3,489,870</span> (13.31 MB)\n",
       "</pre>\n"
      ],
      "text/plain": [
       "\u001b[1m Trainable params: \u001b[0m\u001b[38;5;34m3,489,870\u001b[0m (13.31 MB)\n"
      ]
     },
     "metadata": {},
     "output_type": "display_data"
    },
    {
     "data": {
      "text/html": [
       "<pre style=\"white-space:pre;overflow-x:auto;line-height:normal;font-family:Menlo,'DejaVu Sans Mono',consolas,'Courier New',monospace\"><span style=\"font-weight: bold\"> Non-trainable params: </span><span style=\"color: #00af00; text-decoration-color: #00af00\">0</span> (0.00 B)\n",
       "</pre>\n"
      ],
      "text/plain": [
       "\u001b[1m Non-trainable params: \u001b[0m\u001b[38;5;34m0\u001b[0m (0.00 B)\n"
      ]
     },
     "metadata": {},
     "output_type": "display_data"
    }
   ],
   "source": [
    "inputs = tf.keras.Input(shape=(200,))\n",
    "outputs = encoder(inputs, masking = True, training=True)  # Assuming training=True for now\n",
    "model = tf.keras.Model(inputs=inputs, outputs=outputs)\n",
    "model.summary()"
   ]
  },
  {
   "cell_type": "code",
   "execution_count": 38,
   "id": "aff41f93-8e0e-4fa9-b179-d94df3709225",
   "metadata": {},
   "outputs": [
    {
     "name": "stderr",
     "output_type": "stream",
     "text": [
      "/opt/anaconda3/lib/python3.11/site-packages/keras/src/optimizers/base_optimizer.py:33: UserWarning: Argument `decay` is no longer supported and will be ignored.\n",
      "  warnings.warn(\n"
     ]
    }
   ],
   "source": [
    "from tensorflow.keras.optimizers import Adam\n",
    "opt = Adam(0.002,beta_1 = 0.9, beta_2 = 0.999, decay = 0.01) \n",
    "model.compile(loss = \"categorical_crossentropy\", optimizer = opt, metrics = [\"accuracy\"])"
   ]
  },
  {
   "cell_type": "code",
   "execution_count": 39,
   "id": "6f5e6601-04d6-4e03-abe7-7df1ebe2eef8",
   "metadata": {},
   "outputs": [],
   "source": [
    "def output_vec(y,num_cat): \n",
    "    \"\"\"\n",
    "    This function takes the label and creates a vector of zeros except \n",
    "    the index corresponding to the label. \n",
    "    \n",
    "    Inputs \n",
    "    y : this is a list of labels \n",
    "    num_cat : number of categories \n",
    "    \n",
    "    \"\"\"\n",
    "    leny = len(y)\n",
    "    output_vec = np.zeros((leny,num_cat))\n",
    "    \n",
    "    for i in range(leny): \n",
    "        index = y[i] # say this is 5  \n",
    "        output_vec[i,index] = 1\n",
    "    return(output_vec)\n",
    "        "
   ]
  },
  {
   "cell_type": "code",
   "execution_count": 40,
   "id": "16e61a98-4f53-41e0-b301-aaf53dd55264",
   "metadata": {},
   "outputs": [
    {
     "name": "stdout",
     "output_type": "stream",
     "text": [
      "[1. 0. 0. 0. 0. 0. 0. 0. 0.]\n",
      "0\n"
     ]
    }
   ],
   "source": [
    "y_trainmod = output_vec(y_train, 9)\n",
    "y_testmod = output_vec(y_test,9) \n",
    "print(y_trainmod[0])\n",
    "print(y_train[0])"
   ]
  },
  {
   "cell_type": "code",
   "execution_count": 41,
   "id": "22548cc1-ba73-4c11-b77e-139f1d9a9f4e",
   "metadata": {},
   "outputs": [
    {
     "data": {
      "text/plain": [
       "(122238, 9)"
      ]
     },
     "execution_count": 41,
     "metadata": {},
     "output_type": "execute_result"
    }
   ],
   "source": [
    "y_trainmod.shape"
   ]
  },
  {
   "cell_type": "code",
   "execution_count": 42,
   "id": "8f220539-e5c7-422e-9154-fcd7568ddd8d",
   "metadata": {},
   "outputs": [
    {
     "data": {
      "text/plain": [
       "array([1., 0., 0., 0., 0., 0., 0., 0., 0.])"
      ]
     },
     "execution_count": 42,
     "metadata": {},
     "output_type": "execute_result"
    }
   ],
   "source": [
    "y_trainmod[0]"
   ]
  },
  {
   "cell_type": "code",
   "execution_count": 43,
   "id": "136f6c50-926b-42e8-a420-0b8dd3da290e",
   "metadata": {},
   "outputs": [
    {
     "name": "stdout",
     "output_type": "stream",
     "text": [
      "Epoch 1/5\n",
      "\u001b[1m123/123\u001b[0m \u001b[32m━━━━━━━━━━━━━━━━━━━━\u001b[0m\u001b[37m\u001b[0m \u001b[1m494s\u001b[0m 4s/step - accuracy: 0.4171 - loss: 1.8428 - val_accuracy: 0.6039 - val_loss: 1.0962\n",
      "Epoch 2/5\n",
      "\u001b[1m123/123\u001b[0m \u001b[32m━━━━━━━━━━━━━━━━━━━━\u001b[0m\u001b[37m\u001b[0m \u001b[1m501s\u001b[0m 4s/step - accuracy: 0.6116 - loss: 1.0498 - val_accuracy: 0.6362 - val_loss: 1.0276\n",
      "Epoch 3/5\n",
      "\u001b[1m123/123\u001b[0m \u001b[32m━━━━━━━━━━━━━━━━━━━━\u001b[0m\u001b[37m\u001b[0m \u001b[1m502s\u001b[0m 4s/step - accuracy: 0.6734 - loss: 0.9068 - val_accuracy: 0.7529 - val_loss: 0.7819\n",
      "Epoch 4/5\n",
      "\u001b[1m123/123\u001b[0m \u001b[32m━━━━━━━━━━━━━━━━━━━━\u001b[0m\u001b[37m\u001b[0m \u001b[1m497s\u001b[0m 4s/step - accuracy: 0.7452 - loss: 0.7412 - val_accuracy: 0.7891 - val_loss: 0.6857\n",
      "Epoch 5/5\n",
      "\u001b[1m123/123\u001b[0m \u001b[32m━━━━━━━━━━━━━━━━━━━━\u001b[0m\u001b[37m\u001b[0m \u001b[1m505s\u001b[0m 4s/step - accuracy: 0.7856 - loss: 0.6362 - val_accuracy: 0.8028 - val_loss: 0.6557\n",
      "process time: 41.640896411736804\n"
     ]
    }
   ],
   "source": [
    "import time\n",
    "\n",
    "# Start time\n",
    "#start_time = time.time()\n",
    "\n",
    "model.fit(X_train_tokenized,y_trainmod, epochs=5, batch_size=800,  validation_split=0.2)\n",
    "\n",
    "# End time\n",
    "end_time = time.time()\n",
    "print(f\"process time: { (end_time-start_time)/60}\")"
   ]
  },
  {
   "cell_type": "code",
   "execution_count": 44,
   "id": "5545d440-3292-4004-bdb8-fe66ebcf689d",
   "metadata": {},
   "outputs": [
    {
     "name": "stdout",
     "output_type": "stream",
     "text": [
      "\u001b[1m1/1\u001b[0m \u001b[32m━━━━━━━━━━━━━━━━━━━━\u001b[0m\u001b[37m\u001b[0m \u001b[1m0s\u001b[0m 165ms/step\n",
      "category predicted = ['card']\n",
      "the correct category is ['card']\n",
      "\n",
      "category predicted = ['credit_report']\n",
      "the correct category is ['credit_report']\n",
      "\n",
      "category predicted = ['savings_account']\n",
      "the correct category is ['card']\n",
      "\n",
      "category predicted = ['credit_report']\n",
      "the correct category is ['credit_report']\n",
      "\n",
      "category predicted = ['credit_report']\n",
      "the correct category is ['credit_report']\n",
      "\n",
      "category predicted = ['credit_report']\n",
      "the correct category is ['credit_report']\n",
      "\n",
      "category predicted = ['debt_collection']\n",
      "the correct category is ['debt_collection']\n",
      "\n",
      "category predicted = ['credit_report']\n",
      "the correct category is ['credit_report']\n",
      "\n",
      "category predicted = ['loan']\n",
      "the correct category is ['vehicle_loan']\n",
      "\n",
      "category predicted = ['credit_report']\n",
      "the correct category is ['credit_report']\n",
      "\n"
     ]
    }
   ],
   "source": [
    "# Print some of the predictions: \n",
    "predictions = model.predict(X_train_tokenized[0:10])\n",
    "for i in range(10): \n",
    "    argmax_pred = tf.argmax(predictions[i])\n",
    "    print(f\"category predicted = {label_encoder.inverse_transform([argmax_pred])}\")\n",
    "    print(f\"the correct category is {label_encoder.inverse_transform([y_train[i]])}\\n\")"
   ]
  },
  {
   "cell_type": "code",
   "execution_count": 45,
   "id": "76973bb6-9421-4cfb-b990-98670e8bb88c",
   "metadata": {
    "scrolled": true
   },
   "outputs": [
    {
     "name": "stdout",
     "output_type": "stream",
     "text": [
      "\u001b[1m1274/1274\u001b[0m \u001b[32m━━━━━━━━━━━━━━━━━━━━\u001b[0m\u001b[37m\u001b[0m \u001b[1m55s\u001b[0m 43ms/step - accuracy: 0.6405 - loss: 1.3906\n"
     ]
    },
    {
     "data": {
      "text/plain": [
       "[1.3967596292495728, 0.6396790146827698]"
      ]
     },
     "execution_count": 45,
     "metadata": {},
     "output_type": "execute_result"
    }
   ],
   "source": [
    "# Evaluate the model on the testing set: \n",
    "model.evaluate(X_test_tokenized, y_testmod)"
   ]
  },
  {
   "cell_type": "markdown",
   "id": "498c9bd1-34ec-461d-9dcc-06fb5dc11968",
   "metadata": {},
   "source": [
    "Note that accuracy would not be the most appropriate metric to measure the performance of the model specially when the dataset is unbalanced. The model can predict the majority of samples to belong to class 1 and it can show that it has high accuracy while in fact the model under-preforms when predicting the under-represented categories in the dataset. "
   ]
  },
  {
   "cell_type": "code",
   "execution_count": 46,
   "id": "e7e50217-c656-411e-9d67-3573c90dfc20",
   "metadata": {},
   "outputs": [
    {
     "name": "stdout",
     "output_type": "stream",
     "text": [
      "\u001b[1m1274/1274\u001b[0m \u001b[32m━━━━━━━━━━━━━━━━━━━━\u001b[0m\u001b[37m\u001b[0m \u001b[1m57s\u001b[0m 45ms/step\n"
     ]
    },
    {
     "data": {
      "text/plain": [
       "(40747, 9)"
      ]
     },
     "execution_count": 46,
     "metadata": {},
     "output_type": "execute_result"
    }
   ],
   "source": [
    "y_pred = model.predict(X_test_tokenized)\n",
    "y_pred.shape"
   ]
  },
  {
   "cell_type": "code",
   "execution_count": 47,
   "id": "728ec260-c57b-418e-bd44-90edb277cce3",
   "metadata": {},
   "outputs": [
    {
     "data": {
      "text/plain": [
       "(40747,)"
      ]
     },
     "execution_count": 47,
     "metadata": {},
     "output_type": "execute_result"
    }
   ],
   "source": [
    "arg_max_predictions = np.zeros(y_pred.shape[0], dtype=int)\n",
    "for i in range(y_pred.shape[0]): \n",
    "    arg_max_predictions[i] = np.argmax(y_pred[i])\n",
    "    \n",
    "arg_max_predictions.shape   "
   ]
  },
  {
   "cell_type": "code",
   "execution_count": 114,
   "id": "7430c109-e0fd-4cdf-b381-455fa39681a0",
   "metadata": {},
   "outputs": [
    {
     "data": {
      "text/plain": [
       "array([1, 7, 1, 2, 0, 0, 1, 2, 5, 5])"
      ]
     },
     "execution_count": 114,
     "metadata": {},
     "output_type": "execute_result"
    }
   ],
   "source": [
    "arg_max_predictions[0:10]"
   ]
  },
  {
   "cell_type": "code",
   "execution_count": 115,
   "id": "5f4e4254-fd52-44ea-ad35-72ca839b9ae2",
   "metadata": {},
   "outputs": [
    {
     "data": {
      "text/plain": [
       "array([1, 7, 1, 2, 7, 4, 1, 1, 8, 1])"
      ]
     },
     "execution_count": 115,
     "metadata": {},
     "output_type": "execute_result"
    }
   ],
   "source": [
    "y_test[0:10]"
   ]
  },
  {
   "cell_type": "code",
   "execution_count": 119,
   "id": "05d64227-2629-4687-935b-5eb577a8a043",
   "metadata": {},
   "outputs": [
    {
     "name": "stdout",
     "output_type": "stream",
     "text": [
      "precision of the model: 0.6275036651309561\n",
      "recall of the model: 0.641028787395391\n"
     ]
    },
    {
     "name": "stderr",
     "output_type": "stream",
     "text": [
      "/opt/anaconda3/lib/python3.11/site-packages/sklearn/metrics/_classification.py:1344: UndefinedMetricWarning: Precision is ill-defined and being set to 0.0 in labels with no predicted samples. Use `zero_division` parameter to control this behavior.\n",
      "  _warn_prf(average, modifier, msg_start, len(result))\n"
     ]
    }
   ],
   "source": [
    "from sklearn.metrics import precision_score, recall_score, classification_report, confusion_matrix\n",
    "# Step 4: Calculate metrics\n",
    "precision = precision_score(y_test, arg_max_predictions,average='weighted')\n",
    "recall = recall_score(y_test, arg_max_predictions,average='weighted')\n",
    "print(f\"precision of the model: {precision}\") # focuses on false positives \n",
    "print(f\"recall of the model: {recall}\")# focuses on false negatives "
   ]
  },
  {
   "cell_type": "code",
   "execution_count": 49,
   "id": "778a410c-2b4e-4da6-abfe-bccb6d557dc2",
   "metadata": {},
   "outputs": [
    {
     "name": "stdout",
     "output_type": "stream",
     "text": [
      "precision of the model: 0.6359277271192341\n",
      "recall of the model: 0.6396789947726212\n"
     ]
    },
    {
     "name": "stderr",
     "output_type": "stream",
     "text": [
      "/opt/anaconda3/lib/python3.11/site-packages/sklearn/metrics/_classification.py:1344: UndefinedMetricWarning: Precision is ill-defined and being set to 0.0 in labels with no predicted samples. Use `zero_division` parameter to control this behavior.\n",
      "  _warn_prf(average, modifier, msg_start, len(result))\n"
     ]
    }
   ],
   "source": [
    "# Second try \n",
    "from sklearn.metrics import precision_score, recall_score, classification_report, confusion_matrix\n",
    "precision = precision_score(y_test, arg_max_predictions,average='weighted')\n",
    "recall = recall_score(y_test, arg_max_predictions,average='weighted')\n",
    "print(f\"precision of the model: {precision}\") # focuses on false positives \n",
    "print(f\"recall of the model: {recall}\")# focuses on false negatives "
   ]
  },
  {
   "cell_type": "code",
   "execution_count": 120,
   "id": "b614a3be-9d21-4930-8bb2-617e76e3cd35",
   "metadata": {},
   "outputs": [
    {
     "name": "stdout",
     "output_type": "stream",
     "text": [
      "              precision    recall  f1-score   support\n",
      "\n",
      "           0       0.48      0.53      0.50      3875\n",
      "           1       0.74      0.83      0.78     20825\n",
      "           2       0.60      0.47      0.53      7054\n",
      "           3       0.51      0.32      0.40      1493\n",
      "           4       0.32      0.10      0.15      1109\n",
      "           5       0.48      0.71      0.57      3083\n",
      "           6       0.00      0.00      0.00         2\n",
      "           7       0.52      0.19      0.27      2412\n",
      "           8       0.34      0.29      0.31       894\n",
      "\n",
      "    accuracy                           0.64     40747\n",
      "   macro avg       0.44      0.38      0.39     40747\n",
      "weighted avg       0.63      0.64      0.62     40747\n",
      "\n"
     ]
    },
    {
     "name": "stderr",
     "output_type": "stream",
     "text": [
      "/opt/anaconda3/lib/python3.11/site-packages/sklearn/metrics/_classification.py:1344: UndefinedMetricWarning: Precision and F-score are ill-defined and being set to 0.0 in labels with no predicted samples. Use `zero_division` parameter to control this behavior.\n",
      "  _warn_prf(average, modifier, msg_start, len(result))\n",
      "/opt/anaconda3/lib/python3.11/site-packages/sklearn/metrics/_classification.py:1344: UndefinedMetricWarning: Precision and F-score are ill-defined and being set to 0.0 in labels with no predicted samples. Use `zero_division` parameter to control this behavior.\n",
      "  _warn_prf(average, modifier, msg_start, len(result))\n",
      "/opt/anaconda3/lib/python3.11/site-packages/sklearn/metrics/_classification.py:1344: UndefinedMetricWarning: Precision and F-score are ill-defined and being set to 0.0 in labels with no predicted samples. Use `zero_division` parameter to control this behavior.\n",
      "  _warn_prf(average, modifier, msg_start, len(result))\n"
     ]
    }
   ],
   "source": [
    "# y_test: true labels, y_pred: predicted labels\n",
    "print(classification_report(y_test, arg_max_predictions))"
   ]
  },
  {
   "cell_type": "code",
   "execution_count": 50,
   "id": "afe74c41-5a5b-485c-a8b0-ca698ec9c4fa",
   "metadata": {},
   "outputs": [
    {
     "name": "stdout",
     "output_type": "stream",
     "text": [
      "              precision    recall  f1-score   support\n",
      "\n",
      "           0       0.46      0.52      0.48      3875\n",
      "           1       0.78      0.81      0.79     20825\n",
      "           2       0.62      0.54      0.58      7054\n",
      "           3       0.27      0.48      0.34      1493\n",
      "           4       0.45      0.03      0.06      1109\n",
      "           5       0.45      0.66      0.54      3083\n",
      "           6       0.00      0.00      0.00         2\n",
      "           7       0.48      0.26      0.34      2412\n",
      "           8       0.10      0.01      0.01       894\n",
      "\n",
      "    accuracy                           0.64     40747\n",
      "   macro avg       0.40      0.37      0.35     40747\n",
      "weighted avg       0.64      0.64      0.63     40747\n",
      "\n"
     ]
    },
    {
     "name": "stderr",
     "output_type": "stream",
     "text": [
      "/opt/anaconda3/lib/python3.11/site-packages/sklearn/metrics/_classification.py:1344: UndefinedMetricWarning: Precision and F-score are ill-defined and being set to 0.0 in labels with no predicted samples. Use `zero_division` parameter to control this behavior.\n",
      "  _warn_prf(average, modifier, msg_start, len(result))\n",
      "/opt/anaconda3/lib/python3.11/site-packages/sklearn/metrics/_classification.py:1344: UndefinedMetricWarning: Precision and F-score are ill-defined and being set to 0.0 in labels with no predicted samples. Use `zero_division` parameter to control this behavior.\n",
      "  _warn_prf(average, modifier, msg_start, len(result))\n",
      "/opt/anaconda3/lib/python3.11/site-packages/sklearn/metrics/_classification.py:1344: UndefinedMetricWarning: Precision and F-score are ill-defined and being set to 0.0 in labels with no predicted samples. Use `zero_division` parameter to control this behavior.\n",
      "  _warn_prf(average, modifier, msg_start, len(result))\n"
     ]
    }
   ],
   "source": [
    "# second try \n",
    "print(classification_report(y_test, arg_max_predictions))"
   ]
  },
  {
   "cell_type": "markdown",
   "id": "92156107-42b4-400b-8505-10435c7ba1c7",
   "metadata": {},
   "source": [
    "### Note \n",
    "Precision is calculated for each class; more specifically, for each class we will count the number of true predictions of the model and divide by the number of true and false predictions of the model for that class. We then take a weighted average of all class precisions. Same calculation will be done for recall. But note that if false positive is more important for us, meaning that hte model thinks it belongs but if fact it doesn't, then precision will be more important. If false negatives are more important, we will focus more on the recall value. "
   ]
  },
  {
   "cell_type": "code",
   "execution_count": 51,
   "id": "1070739a-65f0-47e1-a5f6-8179534c343f",
   "metadata": {},
   "outputs": [
    {
     "name": "stdout",
     "output_type": "stream",
     "text": [
      "\u001b[1m1/1\u001b[0m \u001b[32m━━━━━━━━━━━━━━━━━━━━\u001b[0m\u001b[37m\u001b[0m \u001b[1m0s\u001b[0m 47ms/step\n",
      "category predicted = receiving current copy credit report discovered entries identified inquiries qualified deletion report\n",
      "category predicted = ['credit_report']\n",
      "the correct category is ['credit_report']\n",
      "\n",
      "category predicted = usaa federal savings bank let someone deposit fraudulent check letting change online information without permission taken money wants pay another dollars cover mistake\n",
      "category predicted = ['savings_account']\n",
      "the correct category is ['savings_account']\n",
      "\n",
      "category predicted = couple failed attempts 'm demanding accounts blocked credit report accordance literature within fcra 'll file suit start litigation name company co conspirator creditor inwhom reporting un documented unverified accounts name per credit reports 'm requesting accounts removed immediately provide physical documentation method verification used companies process name investigator employee time date day take place also inwhom companies representative speak fax emailed etc physical documentation provided provide documentation relating contracts creditors afforded 'm demanding following accounts blocked removed report immediately accounts understanding per fair credit reporting act request must given attention completed within days receipt\n",
      "category predicted = ['credit_report']\n",
      "the correct category is ['credit_report']\n",
      "\n",
      "category predicted = may concern received alert saw company called hunter warfield inc fraudulently place negative account credit report n't know company never correspondence hunter warfield inc notice creditor supposedly `` representing giving hunter warfield permission contact anything unlawfully reviewed credit report without consent hunter warfield fraudulent act conduct business operations unlawfully middle covid pandemic distasteful grossly irresponsible hope consumers distracted shutdowns caused pandemic sneak lying reports mess consumer 's credit score livelihood hunter warfield disgrace need charge closed concerned\n",
      "category predicted = ['debt_collection']\n",
      "the correct category is ['debt_collection']\n",
      "\n",
      "category predicted = hi account chime bank since traveled last month three weeks found two unknown transactions withdrawals account atm new york called bank told wasnt im card hand told fraud cancel current card send new one open investigation return money back business days days sent email investigation closed dispute denied wont get money back called ask told proofs im card come someone else use new york told final decision wont give money back\n",
      "category predicted = ['card']\n",
      "the correct category is ['savings_account']\n",
      "\n",
      "category predicted = visited bank americas financial center ca located ca cashed bofa cashier 's check amount image attached exchange received dollars cash new cashier 's check payable mr bank america teller associate helped transaction first teller window left processed transaction handed new cashiers check inside size envelope cash along two cash envelopes per request next customer line immediately called teller window way forced step away teller window rush without time verify everything order believe without certain either mr forgot enclose new cashiers check amount inside white envelope inadvertently handed empty envelope check inside b rushed away teller window next customer line possible dropped white envelope new cashiers check purchased floor even left counter window perhaps bank america examine security footage capture cameras inside branch shed clarity matter drove bank americas branch ca cash portion cashiers check purchased mr bofas branch parking lot outside branch preparing go inside branch discovered cashiers check along white non negotiable customer copy check missing inside purse drove back home without visiting branch check whether misplaced check somewhere house searched entire house unable find item called official items notify loss closed went branch notify bofa lost cashiers check since purchaser remitter payee lost instrument file declaration loss indemnity agreement stop payment ucc met mr associate teller issued lost cashiers check question purchased advised lost item asked look locate account number cashiers check number serial lost instrument located lost instrument identified following characteristics bofa cashiers check drawn account dated amount payable advised instrument still outstanding presented payment given purchaser payee lost instrument told mr wanted initiate claim replacement reimbursement cashiers check ucc filing declaration loss indemnity agreement stop payment since purchaser payee lost item asked mr requirement surety bond could waived responded telling ms associate authority approve request told return branch ms would back office could assist declaration loss called mr inquire bank america could flag cashiers check lost stolen place internal informal stop payment alert cashiers check told alert already place monday visiting branch bank meet ms contacted bank americas official item department check status cashiers check spoke ms informed utter shock cashiers check negotiated paid asked ms could possibly happened given authorized payee cashiers check endorsements check ms looked image cancelled cashiers check informed fact endorsement back check appeared however fraudulent signature didnt match signature file bank america customer profile ms contacted check fraud clams initiated check fraud claim phone call went branch meet ms mr friend ms came branch witnessed entire conversation ms mr events transpired visit branch noteworthy mention right meeting ms asked mr cashiers check still outstanding response yes still outstanding checked met ms mr private office mentioned friend also present meeting told cashiers check cashed demanded explanation point mr told cashiers check still outstanding presented payment yet banking center providing erroneous information neither ms mr answer asked ms copy cancelled cashiers check shortly received image copies cancelled cashiers check concluded meeting left branch drove straight local police station file policy report substitute check image received financial cente bank america evidence cashiers check negotiated paid completely deficient defective likely fraudulent deficiencies back check missing mandatory initial physical indorsement bofd bank first deposit well subsequent physical indorsememts appear final pay bank bank america fact financial institution indorsements back check whatsoever initial physical indorsememt bofd required check law ucc regulation cc necessary automated processing forward collection payment handling mandatory substitute check identifier missing micr line position amount check missing micr line\n",
      "category predicted = ['mortgage']\n",
      "the correct category is ['money_transfer']\n",
      "\n",
      "category predicted = hello ive attempted numerous times credit agencies remove account information listed creditor incorrect affected mentally financially im sure ive ever shown late charge etc want account removed credit agencies requested numerous times right fair accurate data listed according fcra\n",
      "category predicted = ['credit_report']\n",
      "the correct category is ['credit_report']\n",
      "\n",
      "category predicted = nothing happend issue score 's\n",
      "category predicted = ['loan']\n",
      "the correct category is ['credit_report']\n",
      "\n",
      "category predicted = surrendered volvo old lease new lease offer volvo month received bill excess wear tear `` tires volvo dealership accepted old lease check car issues n't tell pay anything think wanted sell cars cars value day signed contract one month received bill excess wear tires try charge premium brand tires volvo dealership says fault problem volvo car financial services volvo car financial services says responsibility telling volvo dealership dealership agent vcfs say valid lease contract signed dealership customer service awful complaining letters n't answer questions justify charges honor promises volvo promises dealership volvo brand volvo car financial services\n",
      "category predicted = ['mortgage']\n",
      "the correct category is ['vehicle_loan']\n",
      "\n",
      "category predicted = currently buying new house lender ran credit check told mortgage reported contacted flagstar mortgage company said thats correct needed research find week later still call back contacted said information flagstar report asked next step told reach law report loan goes back requesting credit please reported\n",
      "category predicted = ['mortgage']\n",
      "the correct category is ['credit_report']\n",
      "\n",
      "category predicted = since bbva usa reporting days late payment inaccurater untrue although contacted bbva usa issue reassured branch manager local branch issue would resolved never time referred someone claimed would resolve issue issue never resolved recently received correspondence bbva usa credit card canceled due low credit scores find strange due fact credit scores higher bbva usa issued credit card\n",
      "category predicted = ['credit_report']\n",
      "the correct category is ['card']\n",
      "\n",
      "category predicted = received robo call chase bank account `` n't accounts chase phone number used prefix usually cell numbers idaho\n",
      "category predicted = ['credit_report']\n",
      "the correct category is ['card']\n",
      "\n",
      "category predicted = repeated calls spoofed numbers within phone exchange repeated calls likely spoofed calls local area codes many instances multiple calls per day spoofed local numbers voice mail never left\n",
      "category predicted = ['loan']\n",
      "the correct category is ['debt_collection']\n",
      "\n",
      "category predicted = requested validation additional information validate debt time documents came back address saying address incorrect could find valid address address 's letters seen several others unsure related united auto credit would like requested information sent validate debt please see attached documentation debt properly validated needs removed credit profile immediately\n",
      "category predicted = ['debt_collection']\n",
      "the correct category is ['debt_collection']\n",
      "\n",
      "category predicted = reported days late incorrect reported experian immediately contacted disputed information originally said would self correct next day spoke said would correct filed dispute experian see reporting days late dating back reviewed activity lease end time payment made days late request account reported accurately false information removed company poor job maintaining data files even list name correctly\n",
      "category predicted = ['credit_report']\n",
      "the correct category is ['credit_report']\n",
      "\n",
      "category predicted = able take advantage card services amex providing like frequent mileage program dining credit even using card due covi pandemic amex charges us similar services asked receive partial credit refused\n",
      "category predicted = ['card']\n",
      "the correct category is ['card']\n",
      "\n",
      "category predicted = last called citi bank customer service ask offer balanced transfer credit card customer service day responded informed offer offer balanced transfer apr months one time balanced transfer fee upon hearing offer told customer service would like avail said balanced transfer offer apr months told customer service transfer amount checking account fee balanced transfer amount deposited checking account several days lasts checking account online citi bank noticed discrepancy interests rate amount charged citibank charged us billing cycle month rate based standard purchased rate shown statement balanced transfer previous month term agreement lasts balanced transfer apr balanced transfer months time fee citi bank follow agreement customer service citi bank spoked agreed day transfer made citi bank instead charged us apr based standard purchased disregarded apr months time balanced transfer fee agreed called citi bank ask charged something different agreement customer service spoked last agreed said investigate received response\n",
      "category predicted = ['savings_account']\n",
      "the correct category is ['card']\n",
      "\n",
      "category predicted = friend paid via friends family option paypal two transactions amount funds hit paypal account fee transaction charged immediately within minutes refunded money called paypal indicate mistake made processed refunds refused refund transaction fees indicated change terms emailed users indicating terms use change making fees non refundable never received notice believe unfair consumer practice\n",
      "category predicted = ['card']\n",
      "the correct category is ['money_transfer']\n",
      "\n",
      "category predicted = incorrect information listed credit report belong disputed information company creditors results receiving alerts information phone calls threatening taxes paychecks etc following accounts listed incorrectly also following address incorrect submitted correct information al tx al la la following inquires listed well\n",
      "category predicted = ['credit_report']\n",
      "the correct category is ['credit_report']\n",
      "\n",
      "category predicted = complaint debt collection procollect amount signed month lease contract apartment complex according contract agreement month lease converts month month basis contract attached complaint stayed apartment submitted person day move notice even though days notice required month month according contract without notice late fee broken lease found debt collection procollect collection placed account amount reached apartment complex phone email try resolve situation response reached procollect request written statement proof collection however sent bogus none binding contract proof contract either signature apartments notice given `` move date `` incorrect also reason leaving skipped owes money notice `` everything contract fraud made n't even aware contract renewal apparently renewed contract never signed agreed contract also attached complaint mention remember walking apartment leasing office person notify would n't renewing contract charged month month fee receipt attached complaint moreover still peak covid pandemic leasing office closed business conducted appointments online would think would notified sent copy renewal lease contract contract binding without signature knowledge 's existence additionally homeowner different state due pandemic working remotely home since never requested lease renewed actually attempted call give move notice since told move notice person wait till holidays action taken requested procollect send signed contract valid proof owed debt ca n't show proof apart fake lease contract attached complaint procollect representative spoke last wrongly accused stayed owed debt `` also disputed debt collection three credit bureaus ask valid information procollect\n",
      "category predicted = ['debt_collection']\n",
      "the correct category is ['debt_collection']\n",
      "\n"
     ]
    }
   ],
   "source": [
    "# Print some of the predictions: \n",
    "predictions = model.predict(X_test_tokenized[0:20])\n",
    "for i in range(20): \n",
    "    argmax_pred = tf.argmax(predictions[i])\n",
    "    print(f\"category predicted = {X_test[i]}\")\n",
    "    print(f\"category predicted = {label_encoder.inverse_transform([argmax_pred])}\")\n",
    "    print(f\"the correct category is {label_encoder.inverse_transform([y_test[i]])}\\n\")"
   ]
  },
  {
   "cell_type": "code",
   "execution_count": 75,
   "id": "20f112e2-23df-49df-9ca0-a40bfa14b769",
   "metadata": {},
   "outputs": [
    {
     "data": {
      "text/plain": [
       "52.357164696852365"
      ]
     },
     "execution_count": 75,
     "metadata": {},
     "output_type": "execute_result"
    }
   ],
   "source": [
    "(end_time - start_time)/60"
   ]
  },
  {
   "cell_type": "markdown",
   "id": "81461928-ad42-4b41-a9f7-61b3c3fe53cb",
   "metadata": {},
   "source": [
    "After approximately 1500 iterations the accuracy does not surpass 80% on training set and 70% on the testing set while using GloVe embeddings (holdign the embeddings fixed); however, while initializing the model with arbitrary embedding layer and train the embedding layer during the training mode, we will reach above 95% accuracy in less than 100 iterations while the batch size is 400. \n",
    "\n",
    "The model has a tendency to overfit the training data(accuracy ~= 99%) and perform poorly on the testing data (accuracy<50%). However, in the distribution of the length of the complaints, it is shown that some comments are very long (length>500) and we have truncated all the sequences to the length = 150. Compared to the constant length of 100, the model performs significnatly better on the testing data when length =150. Due to compuatational power limitations, we will keep the legnth of the sequences to 150. "
   ]
  },
  {
   "cell_type": "markdown",
   "id": "1c54145b-d3e4-44ff-bdc6-755a4e5beace",
   "metadata": {},
   "source": [
    "Having a maximum length adds redundancy in calculations. For example, a complaint has 30 words in it 170 extra vectors of zeros are added to it to make it of constant length. these zeros will then be mapped and become non-zero values. there must be a more efficient way of dealing with this. "
   ]
  },
  {
   "cell_type": "markdown",
   "id": "1ff24657-fa63-48e7-a8ee-6fbd8197569c",
   "metadata": {},
   "source": [
    "Also note that there are still makny redundant words in the input data that can be removed to help the performance of the model "
   ]
  }
 ],
 "metadata": {
  "kernelspec": {
   "display_name": "Python 3 (ipykernel)",
   "language": "python",
   "name": "python3"
  },
  "language_info": {
   "codemirror_mode": {
    "name": "ipython",
    "version": 3
   },
   "file_extension": ".py",
   "mimetype": "text/x-python",
   "name": "python",
   "nbconvert_exporter": "python",
   "pygments_lexer": "ipython3",
   "version": "3.11.7"
  }
 },
 "nbformat": 4,
 "nbformat_minor": 5
}
